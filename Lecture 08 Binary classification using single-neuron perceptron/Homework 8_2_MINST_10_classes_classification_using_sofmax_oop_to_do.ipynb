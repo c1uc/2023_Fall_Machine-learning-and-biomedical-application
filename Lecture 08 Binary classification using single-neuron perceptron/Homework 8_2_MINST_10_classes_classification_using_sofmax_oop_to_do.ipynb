{
 "cells": [
  {
   "cell_type": "markdown",
   "metadata": {},
   "source": [
    "## Homework 8_2_MINST_10_classes_classification_using_sofmax_oop_to_do"
   ]
  },
  {
   "cell_type": "code",
   "execution_count": 1,
   "metadata": {
    "ExecuteTime": {
     "end_time": "2023-11-26T14:00:56.369333400Z",
     "start_time": "2023-11-26T14:00:56.283041700Z"
    }
   },
   "outputs": [],
   "source": [
    "import numpy as np\n",
    "\n",
    "class SofmaxRegression:\n",
    "    def __init__(self, learning_rate=0.00001, n_iters=1000):\n",
    "        self.lr = learning_rate\n",
    "        self.n_iters = n_iters\n",
    "        self.weights = None\n",
    "        \n",
    "    def softmax(self, logits):\n",
    "        return np.exp(logits) / np.sum(np.exp(logits), axis=1, keepdims=True)\n",
    "\n",
    "    def forward(self, X):\n",
    "        return self.softmax(X @ self.weights)\n",
    "\n",
    "    def predict(self, X):\n",
    "        probs = self.forward(X)\n",
    "        return np.argmax(probs, axis=1, keepdims=True)\n",
    "\n",
    "    def loss(self,X, Y):\n",
    "        N = X.shape[0]\n",
    "        probs = self.forward(X)\n",
    "        loss = -np.sum(Y * np.log(probs)) / N\n",
    "        return loss\n",
    "    \n",
    "    def gradient(self, X, Y):\n",
    "        N = X.shape[0]\n",
    "        probs = self.forward(X)\n",
    "        return np.dot(X.T, (probs - Y)) / N\n",
    "    \n",
    "    def report(self, iteration, X, Y):\n",
    "        accuracy = np.count_nonzero(self.predict(X) == np.argmax(Y, axis=1, keepdims=True)) * 100.0 / Y.shape[0]\n",
    "        print(f'iteration: {iteration}, loss: {self.loss(X, Y)}, accuracy: {accuracy}%')\n",
    "\n",
    "\n",
    "    def fit(self, X, Y):\n",
    "        self.weights = np.zeros((X_train.shape[1], Y_train.shape[1]))\n",
    "        for i in range(self.n_iters):\n",
    "            if i % 20 == 0:\n",
    "                self.report(i, X, Y)\n",
    "            self.weights -= self.gradient(X, Y) * self.lr\n",
    "        self.report(self.n_iters, X, Y)\n"
   ]
  },
  {
   "cell_type": "code",
   "execution_count": 2,
   "metadata": {
    "ExecuteTime": {
     "end_time": "2023-11-26T14:00:56.737372100Z",
     "start_time": "2023-11-26T14:00:56.372330600Z"
    }
   },
   "outputs": [],
   "source": [
    "# Load the MINST data and prepare the training and testing data sets\n",
    "import gzip\n",
    "import struct\n",
    "\n",
    "def load_images(filename):\n",
    "    # Open and unzip the file of images:\n",
    "    with gzip.open(filename, 'rb') as f:\n",
    "        # Read the header information into a bunch of variables:\n",
    "        _ignored, n_images, columns, rows = struct.unpack('>IIII', f.read(16))\n",
    "        # Read all the pixels into a NumPy array:\n",
    "        all_pixels = np.frombuffer(f.read(), dtype=np.uint8)\n",
    "        # Reshape the pixels into a matrix where each line is an image:\n",
    "        return all_pixels.reshape(n_images, columns * rows)\n",
    "\n",
    "def prepend_bias(X):\n",
    "    # Insert a column of 1s in the position 0 of X.\n",
    "    # (“axis=1” stands for: “insert a column, not a row”)\n",
    "    return np.insert(X, 0, 1, axis=1)\n",
    "\n",
    "def load_labels(filename):\n",
    "    # Open and unzip the file of images:\n",
    "    with gzip.open(filename, 'rb') as f:\n",
    "        # Skip the header bytes:\n",
    "        f.read(8)\n",
    "        # Read all the labels into a list:\n",
    "        all_labels = f.read()\n",
    "        # Reshape the list of labels into a one-column matrix:\n",
    "        return np.frombuffer(all_labels, dtype=np.uint8).reshape(-1, 1)\n",
    "\n",
    "def one_hot_encode(Y):\n",
    "    n_labels = Y.shape[0]\n",
    "    n_classes = 10\n",
    "    encoded_Y = np.zeros((n_labels, n_classes))\n",
    "    for i in range(n_labels):\n",
    "        label = Y[i]\n",
    "        encoded_Y[i][label] = 1\n",
    "    return encoded_Y\n",
    "    \n",
    "x_train = load_images(\"train-images-idx3-ubyte.gz\")\n",
    "x_test  = load_images(\"t10k-images-idx3-ubyte.gz\")\n",
    "\n",
    "# 60000 images, each 785 elements (1 bias + 28 * 28 pixels), X_train is (60000,785) \n",
    "X_train = prepend_bias(x_train)\n",
    "\n",
    "# 10000 images, each 785 elements, with the same structure as X_train, X_test is (10000,785) \n",
    "X_test = prepend_bias(x_test)\n",
    "\n",
    "# 60K labels, each a single digit from 0 to 9\n",
    "Y_train_unencoded = load_labels(\"train-labels-idx1-ubyte.gz\")\n",
    "\n",
    "# 60K labels, each consisting of 10 one-hot encoded elements\n",
    "Y_train = one_hot_encode(Y_train_unencoded)\n",
    "\n",
    "# 10000 labels, each a single digit from 0 to 9\n",
    "Y_test = load_labels(\"t10k-labels-idx1-ubyte.gz\")"
   ]
  },
  {
   "cell_type": "code",
   "execution_count": 3,
   "metadata": {
    "ExecuteTime": {
     "end_time": "2023-11-26T14:01:54.923370600Z",
     "start_time": "2023-11-26T14:00:56.736373600Z"
    }
   },
   "outputs": [
    {
     "name": "stdout",
     "output_type": "stream",
     "text": [
      "iteration: 0, loss: 2.3025850929940437, accuracy: 9.871666666666666%\n",
      "iteration: 20, loss: 0.552313271160402, accuracy: 86.44333333333333%\n",
      "iteration: 40, loss: 0.45615562085755945, accuracy: 88.16333333333333%\n",
      "iteration: 60, loss: 0.4161933858511783, accuracy: 88.88%\n",
      "iteration: 80, loss: 0.39283271098835054, accuracy: 89.43%\n",
      "iteration: 100, loss: 0.3770472958645998, accuracy: 89.72666666666667%\n",
      "iteration: 120, loss: 0.3654537491480679, accuracy: 90.00166666666667%\n",
      "iteration: 140, loss: 0.3564651899859296, accuracy: 90.17666666666666%\n",
      "iteration: 160, loss: 0.3492264959093779, accuracy: 90.36833333333334%\n",
      "iteration: 180, loss: 0.3432308075538642, accuracy: 90.52666666666667%\n",
      "iteration: 200, loss: 0.33815601481437285, accuracy: 90.61666666666666%\n",
      "Testing accuracy: 91.10%\n"
     ]
    }
   ],
   "source": [
    "# Testing\n",
    "\n",
    "clf = SofmaxRegression(learning_rate=0.00001, n_iters=200)\n",
    "clf.fit(X_train, Y_train)\n",
    "predictions = clf.predict(X_test)\n",
    "Accuracy = np.count_nonzero(predictions == Y_test)* 100.0 /Y_test.shape[0]\n",
    "print(\"Testing accuracy: %.2f%%\" % (Accuracy))"
   ]
  },
  {
   "cell_type": "code",
   "execution_count": 3,
   "metadata": {
    "ExecuteTime": {
     "end_time": "2023-11-26T14:01:54.923370600Z",
     "start_time": "2023-11-26T14:01:54.917574700Z"
    }
   },
   "outputs": [],
   "source": []
  },
  {
   "cell_type": "code",
   "execution_count": 3,
   "metadata": {
    "ExecuteTime": {
     "end_time": "2023-11-26T14:01:54.923370600Z",
     "start_time": "2023-11-26T14:01:54.919566200Z"
    }
   },
   "outputs": [],
   "source": []
  }
 ],
 "metadata": {
  "kernelspec": {
   "display_name": "Python 3",
   "language": "python",
   "name": "python3"
  },
  "language_info": {
   "codemirror_mode": {
    "name": "ipython",
    "version": 3
   },
   "file_extension": ".py",
   "mimetype": "text/x-python",
   "name": "python",
   "nbconvert_exporter": "python",
   "pygments_lexer": "ipython3",
   "version": "3.8.3"
  }
 },
 "nbformat": 4,
 "nbformat_minor": 4
}
