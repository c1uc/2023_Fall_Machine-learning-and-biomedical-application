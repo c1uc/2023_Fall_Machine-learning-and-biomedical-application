{
 "cells": [
  {
   "cell_type": "markdown",
   "metadata": {},
   "source": [
    "## Homework 8_1_MINST_10_classes_classification_using_logistic_oop_to_do"
   ]
  },
  {
   "cell_type": "code",
   "execution_count": 1,
   "metadata": {
    "ExecuteTime": {
     "end_time": "2023-11-26T13:48:06.530404700Z",
     "start_time": "2023-11-26T13:48:06.448108300Z"
    }
   },
   "outputs": [],
   "source": [
    "import numpy as np\n",
    "\n",
    "class LogisticRegression:\n",
    "    def __init__(self, learning_rate=0.00001, n_iters=1000):\n",
    "        self.lr = learning_rate\n",
    "        self.n_iters = n_iters\n",
    "        self.weights = None\n",
    "        \n",
    "    @staticmethod\n",
    "    def sigmoid(z):\n",
    "        return 1 / (1 + np.exp(-z))\n",
    "\n",
    "    def forward(self, X):\n",
    "        return self.sigmoid(X @ self.weights)\n",
    "\n",
    "    def predict(self, X):\n",
    "        return np.argmax(self.forward(X), axis=1, keepdims=True)\n",
    "\n",
    "    def loss(self, X, Y):\n",
    "        y_hat = self.forward(X)\n",
    "        return -np.sum(Y * np.log(y_hat) + (1 - Y) * np.log(1 - y_hat)) / X.shape[0]\n",
    "\n",
    "    def gradient(self, X, Y):\n",
    "        return X.T @ (self.forward(X) - Y) / X.shape[0]\n",
    "    \n",
    "    def report(self, iteration, X, Y):\n",
    "        accuracy = np.count_nonzero(self.predict(X) == np.argmax(Y, axis=1, keepdims=True)) * 100.0 / Y.shape[0]\n",
    "        print(f'iteration: {iteration}, loss: {self.loss(X, Y)}, accuracy: {accuracy}%')\n",
    "\n",
    "    def fit(self, X, Y):\n",
    "        self.weights = np.zeros((X.shape[1], Y.shape[1]))\n",
    "        for i in range(self.n_iters):\n",
    "            self.weights -= self.lr * self.gradient(X, Y)\n",
    "            if i % 10 == 0:\n",
    "                self.report(i, X, Y)\n",
    "        self.report(self.n_iters, X, Y)\n",
    "        "
   ]
  },
  {
   "cell_type": "code",
   "execution_count": 2,
   "metadata": {
    "ExecuteTime": {
     "end_time": "2023-11-26T13:48:07.366095600Z",
     "start_time": "2023-11-26T13:48:07.027021200Z"
    }
   },
   "outputs": [],
   "source": [
    "# Load the MINST data and prepare the training and testing data sets\n",
    "import gzip\n",
    "import struct\n",
    "\n",
    "def load_images(filename):\n",
    "    # Open and unzip the file of images:\n",
    "    with gzip.open(filename, 'rb') as f:\n",
    "        # Read the header information into a bunch of variables:\n",
    "        _ignored, n_images, columns, rows = struct.unpack('>IIII', f.read(16))\n",
    "        # Read all the pixels into a NumPy array:\n",
    "        all_pixels = np.frombuffer(f.read(), dtype=np.uint8)\n",
    "        # Reshape the pixels into a matrix where each line is an image:\n",
    "        return all_pixels.reshape(n_images, columns * rows)\n",
    "\n",
    "def prepend_bias(X):\n",
    "    # Insert a column of 1s in the position 0 of X.\n",
    "    # (“axis=1” stands for: “insert a column, not a row”)\n",
    "    return np.insert(X, 0, 1, axis=1)\n",
    "\n",
    "def load_labels(filename):\n",
    "    # Open and unzip the file of images:\n",
    "    with gzip.open(filename, 'rb') as f:\n",
    "        # Skip the header bytes:\n",
    "        f.read(8)\n",
    "        # Read all the labels into a list:\n",
    "        all_labels = f.read()\n",
    "        # Reshape the list of labels into a one-column matrix:\n",
    "        return np.frombuffer(all_labels, dtype=np.uint8).reshape(-1, 1)\n",
    "\n",
    "def one_hot_encode(Y):\n",
    "    n_labels = Y.shape[0]\n",
    "    n_classes = 10\n",
    "    encoded_Y = np.zeros((n_labels, n_classes))\n",
    "    for i in range(n_labels):\n",
    "        label = Y[i]\n",
    "        encoded_Y[i][label] = 1\n",
    "    return encoded_Y\n",
    "    \n",
    "x_train = load_images(\"train-images-idx3-ubyte.gz\")\n",
    "x_test  = load_images(\"t10k-images-idx3-ubyte.gz\")\n",
    "\n",
    "# 60000 images, each 785 elements (1 bias + 28 * 28 pixels), X_train is (60000,785) \n",
    "X_train = prepend_bias(x_train)\n",
    "\n",
    "# 10000 images, each 785 elements, with the same structure as X_train, X_test is (10000,785) \n",
    "X_test = prepend_bias(x_test)\n",
    "\n",
    "# 60K labels, each a single digit from 0 to 9\n",
    "Y_train_unencoded = load_labels(\"train-labels-idx1-ubyte.gz\")\n",
    "\n",
    "# 60K labels, each consisting of 10 one-hot encoded elements\n",
    "Y_train = one_hot_encode(Y_train_unencoded)\n",
    "\n",
    "# 10000 labels, each a single digit from 0 to 9\n",
    "Y_test = load_labels(\"t10k-labels-idx1-ubyte.gz\")"
   ]
  },
  {
   "cell_type": "code",
   "execution_count": 3,
   "metadata": {
    "ExecuteTime": {
     "end_time": "2023-11-26T13:49:22.248413200Z",
     "start_time": "2023-11-26T13:48:07.881556900Z"
    }
   },
   "outputs": [
    {
     "name": "stdout",
     "output_type": "stream",
     "text": [
      "iteration: 0, loss: 8.434456875083336, accuracy: 67.17833333333333%\n",
      "iteration: 10, loss: 1.4547390723537275, accuracy: 83.60166666666667%\n",
      "iteration: 20, loss: 1.2398963816638573, accuracy: 85.65666666666667%\n",
      "iteration: 30, loss: 1.1396556120791268, accuracy: 86.51666666666667%\n",
      "iteration: 40, loss: 1.0782380125640527, accuracy: 87.06%\n",
      "iteration: 50, loss: 1.0358904545227758, accuracy: 87.44833333333334%\n",
      "iteration: 60, loss: 1.0045795052261213, accuracy: 87.75333333333333%\n",
      "iteration: 70, loss: 0.9802869242363641, accuracy: 88.04333333333334%\n",
      "iteration: 80, loss: 0.9607633942382621, accuracy: 88.265%\n",
      "iteration: 90, loss: 0.9446448405352792, accuracy: 88.44666666666667%\n",
      "iteration: 100, loss: 0.9310525665216144, accuracy: 88.60166666666667%\n",
      "iteration: 110, loss: 0.9193931113524326, accuracy: 88.74833333333333%\n",
      "iteration: 120, loss: 0.9092500542315094, accuracy: 88.86%\n",
      "iteration: 130, loss: 0.9003218435711583, accuracy: 88.99%\n",
      "iteration: 140, loss: 0.8923842516815339, accuracy: 89.07833333333333%\n",
      "iteration: 150, loss: 0.8852667431022636, accuracy: 89.15666666666667%\n",
      "iteration: 160, loss: 0.8788370700992311, accuracy: 89.22666666666667%\n",
      "iteration: 170, loss: 0.8729909244029102, accuracy: 89.29166666666667%\n",
      "iteration: 180, loss: 0.8676448013993504, accuracy: 89.37333333333333%\n",
      "iteration: 190, loss: 0.8627309652503444, accuracy: 89.44%\n",
      "iteration: 200, loss: 0.8586319648804129, accuracy: 89.49333333333334%\n",
      "Testing accuracy: 90.32%\n"
     ]
    }
   ],
   "source": [
    "# Testing\n",
    "\n",
    "clf = LogisticRegression(learning_rate=0.00001, n_iters=200)\n",
    "clf.fit(X_train, Y_train)\n",
    "predictions = clf.predict(X_test)\n",
    "Accuracy = np.count_nonzero(predictions == Y_test) * 100.0 / Y_test.shape[0]\n",
    "print(f\"Testing accuracy: {Accuracy}%\")"
   ]
  },
  {
   "cell_type": "code",
   "execution_count": null,
   "metadata": {
    "ExecuteTime": {
     "end_time": "2023-11-26T13:47:18.531974200Z",
     "start_time": "2023-11-26T13:47:18.530974200Z"
    }
   },
   "outputs": [],
   "source": []
  }
 ],
 "metadata": {
  "kernelspec": {
   "display_name": "Python 3",
   "language": "python",
   "name": "python3"
  },
  "language_info": {
   "codemirror_mode": {
    "name": "ipython",
    "version": 3
   },
   "file_extension": ".py",
   "mimetype": "text/x-python",
   "name": "python",
   "nbconvert_exporter": "python",
   "pygments_lexer": "ipython3",
   "version": "3.8.3"
  }
 },
 "nbformat": 4,
 "nbformat_minor": 4
}
