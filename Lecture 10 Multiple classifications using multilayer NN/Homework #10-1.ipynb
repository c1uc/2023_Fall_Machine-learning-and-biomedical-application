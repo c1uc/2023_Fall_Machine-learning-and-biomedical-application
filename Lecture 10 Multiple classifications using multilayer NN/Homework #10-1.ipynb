{
 "cells": [
  {
   "cell_type": "markdown",
   "metadata": {},
   "source": [
    "# Chapter 14: The Zen of Testing\n",
    "\n",
    "Paolo Perrotta, Programming Machine Learning: From Coding to Deep Learning (2020)"
   ]
  },
  {
   "cell_type": "markdown",
   "metadata": {},
   "source": [
    "## The Threat of Overfitting"
   ]
  },
  {
   "cell_type": "code",
   "execution_count": 1,
   "metadata": {
    "ExecuteTime": {
     "end_time": "2023-12-05T17:06:50.311786900Z",
     "start_time": "2023-12-05T17:06:49.416957200Z"
    }
   },
   "outputs": [],
   "source": [
    "# The MNIST data loader that we used so far.\n",
    "# It includes a training and a test set, but no validation set.\n",
    "\n",
    "import numpy as np\n",
    "import gzip\n",
    "import struct\n",
    "\n",
    "\n",
    "def load_images(filename):\n",
    "    # Open and unzip the file of images:\n",
    "    with gzip.open(filename, 'rb') as f:\n",
    "        # Read the header information into a bunch of variables:\n",
    "        _ignored, n_images, columns, rows = struct.unpack('>IIII', f.read(16))\n",
    "        # Read all the pixels into a NumPy array:\n",
    "        all_pixels = np.frombuffer(f.read(), dtype=np.uint8)\n",
    "        # Reshape the pixels into a matrix where each line is an image:\n",
    "        return all_pixels.reshape(n_images, columns * rows)\n",
    "    \n",
    "    \n",
    "def standardize(training_set, test_set):\n",
    "    average = np.average(training_set)\n",
    "    standard_deviation = np.std(training_set)\n",
    "    training_set_standardized = (training_set - average) / standard_deviation\n",
    "    test_set_standardized = (test_set - average) / standard_deviation\n",
    "    return (training_set_standardized, test_set_standardized)\n",
    "\n",
    "\n",
    "# 60000 images, each 785 elements (1 bias + 28 * 28 pixels)\n",
    "X_train = load_images(\"./mnist/train-images-idx3-ubyte.gz\") #注意檔案路徑是否正確\n",
    "\n",
    "# 10000 images, each 785 elements, with the same structure as X_train\n",
    "X_test = load_images(\"./mnist/t10k-images-idx3-ubyte.gz\") #注意檔案路徑是否正確\n",
    "\n",
    "X_train, X_test = standardize(X_train, X_test)\n",
    "\n",
    "def load_labels(filename):\n",
    "    # Open and unzip the file of images:\n",
    "    with gzip.open(filename, 'rb') as f:\n",
    "        # Skip the header bytes:\n",
    "        f.read(8)\n",
    "        # Read all the labels into a list:\n",
    "        all_labels = f.read()\n",
    "        # Reshape the list of labels into a one-column matrix:\n",
    "        return np.frombuffer(all_labels, dtype=np.uint8).reshape(-1, 1)\n",
    "\n",
    "\n",
    "def one_hot_encode(Y):\n",
    "    n_labels = Y.shape[0]\n",
    "    n_classes = 10\n",
    "    encoded_Y = np.zeros((n_labels, n_classes))\n",
    "    for i in range(n_labels):\n",
    "        label = Y[i]\n",
    "        encoded_Y[i][label] = 1\n",
    "    return encoded_Y\n",
    "\n",
    "\n",
    "# 60K labels, each a single digit from 0 to 9\n",
    "Y_train_unencoded = load_labels(\"./mnist/train-labels-idx1-ubyte.gz\") #注意檔案路徑是否正確\n",
    "\n",
    "# 60K labels, each consisting of 10 one-hot encoded elements\n",
    "Y_train = one_hot_encode(Y_train_unencoded)\n",
    "\n",
    "# 10000 labels, each a single digit from 0 to 9\n",
    "Y_test = load_labels(\"./mnist/t10k-labels-idx1-ubyte.gz\") #注意檔案路徑是否正確"
   ]
  },
  {
   "cell_type": "code",
   "execution_count": 2,
   "metadata": {
    "ExecuteTime": {
     "end_time": "2023-12-05T17:06:50.324048200Z",
     "start_time": "2023-12-05T17:06:50.311786900Z"
    }
   },
   "outputs": [
    {
     "name": "stdout",
     "output_type": "stream",
     "text": [
      "(60000, 784)\n"
     ]
    }
   ],
   "source": [
    "print(X_train.shape)"
   ]
  },
  {
   "cell_type": "code",
   "execution_count": 3,
   "metadata": {
    "ExecuteTime": {
     "end_time": "2023-12-05T17:06:50.326048900Z",
     "start_time": "2023-12-05T17:06:50.321537200Z"
    }
   },
   "outputs": [],
   "source": [
    "# The neural network, with the train() function hacked to provide\n",
    "# histories of the loss and the accuracy on both the training set\n",
    "# and the test set.\n",
    "\n",
    "\n",
    "def sigmoid(z):\n",
    "    return 1 / (1 + np.exp(-z))\n",
    "\n",
    "\n",
    "def ReLU(x):\n",
    "    return np.maximum(0, x)\n",
    "\n",
    "\n",
    "def softmax(logits):\n",
    "    exponentials = np.exp(logits)\n",
    "    return exponentials / np.sum(exponentials, axis=1).reshape(-1, 1)\n",
    "\n",
    "\n",
    "def sigmoid_gradient(sigmoid):\n",
    "    return np.multiply(sigmoid, (1 - sigmoid))\n",
    "\n",
    "\n",
    "def prepend_bias(X):\n",
    "    return np.insert(X, 0, 1, axis=1)\n",
    "\n",
    "\n",
    "def Dropout(y, ratio):\n",
    "    yd = np.zeros(y.size)    \n",
    "    num = round(y.size*(1-ratio))\n",
    "    idx = np.random.choice(y.size, num, replace=False)\n",
    "    yd[idx] = 1.0 / (1.0 - ratio)\n",
    "    yd=np.reshape(yd,(y.shape))   \n",
    "    return yd\n",
    "\n",
    "\n",
    "def initialize_weights(n_input_variables, n_hidden_nodes, n_classes):\n",
    "    np.random.seed(1234)\n",
    "\n",
    "    w1_rows = n_input_variables + 1\n",
    "    w1 = np.random.randn(w1_rows, n_hidden_nodes) * np.sqrt(1 / w1_rows)\n",
    "\n",
    "    w2_rows = n_hidden_nodes + 1\n",
    "    w2 = np.random.randn(w2_rows, n_classes) * np.sqrt(1 / w2_rows)\n",
    "    return (w1, w2)\n",
    "\n",
    "\n",
    "def forward(X, w1, w2):\n",
    "    a  = np.matmul(prepend_bias(X), w1)     # (5 x 26) x (26 x 20) = 5 x 20\n",
    "    h1 = ReLU(a)                         # 5 x 20\n",
    "    h1 = h1 * Dropout(h1, 0.2)\n",
    "    b  = np.matmul(prepend_bias(h1), w2)    # (5 x 21) x (21 x 20) = 5 x 20\n",
    "    y_hat = softmax(b)\n",
    "    return y_hat, h1, a, b"
   ]
  },
  {
   "cell_type": "code",
   "execution_count": 4,
   "metadata": {
    "ExecuteTime": {
     "end_time": "2023-12-05T17:06:50.747567600Z",
     "start_time": "2023-12-05T17:06:50.327050100Z"
    }
   },
   "outputs": [
    {
     "name": "stdout",
     "output_type": "stream",
     "text": [
      "(60000, 50)\n",
      "(60000, 10)\n"
     ]
    }
   ],
   "source": [
    "# This is a test\n",
    "n_input_variables = X_train.shape[1]\n",
    "n_classes = Y_train.shape[1]\n",
    "n_hidden_nodes = 50\n",
    "w1, w2 = initialize_weights(n_input_variables, n_hidden_nodes, n_classes)\n",
    "y_hat, h1, a, b = forward(X_train, w1, w2)\n",
    "print(h1.shape)\n",
    "print(y_hat.shape)"
   ]
  },
  {
   "cell_type": "code",
   "execution_count": 5,
   "metadata": {
    "ExecuteTime": {
     "end_time": "2023-12-05T17:06:50.759567600Z",
     "start_time": "2023-12-05T17:06:50.749568Z"
    }
   },
   "outputs": [],
   "source": [
    "def back(X, Y, y_hat, w1, w2, a, b, h1):\n",
    "    dw2 = np.matmul(prepend_bias(h1).T, y_hat-Y)/X.shape[0]\n",
    "    dh1 = np.matmul(y_hat - Y, w2[1:].T)\n",
    "    da  = dh1 * (h1 > 0)\n",
    "    dw1 = np.matmul(prepend_bias(X).T, da)/X.shape[0]\n",
    "    return dw1, dw2\n",
    "\n",
    "\n",
    "def classify(X, w1, w2):\n",
    "    y_hat, _, _, _ = forward(X, w1, w2)\n",
    "    labels = np.argmax(y_hat, axis=1)\n",
    "    return labels.reshape(-1, 1)\n",
    "\n",
    "\n",
    "def accuracy(X, Y_unencoded, w1, w2):\n",
    "    return np.average(classify(X, w1, w2) == Y_unencoded) * 100.0\n",
    "\n",
    "\n",
    "# This loss() takes different parameters than the ones in other source files\n",
    "def loss(Y, y_hat):\n",
    "    return -np.sum(Y * np.log(y_hat)) / Y.shape[0]\n",
    "\n",
    "\n",
    "# This train() stores the loss on both the training and the test sets at each\n",
    "# step. A the end, it returns those histories to the caller.\n",
    "# Different from train() functions in other source files, it expects that\n",
    "# _both_ Y_train and Y_test are one hot encoded.\n",
    "def train(X_train, Y_train, X_test, Y_test, n_hidden_nodes, iterations, lr):\n",
    "    n_input_variables = X_train.shape[1]\n",
    "    n_classes = Y_train.shape[1]\n",
    "    w1, w2 = initialize_weights(n_input_variables, n_hidden_nodes, n_classes)\n",
    "    training_losses = []\n",
    "    test_losses = []\n",
    "    for i in range(iterations):\n",
    "        y_hat_train, h1, a, b = forward(X_train, w1, w2)\n",
    "        y_hat_test, _, _, _ = forward(X_test, w1, w2)\n",
    "        w1_gradient, w2_gradient = back(X_train, Y_train, y_hat_train, w1, w2, a, b, h1)\n",
    "        w1 = w1 - (w1_gradient * lr)\n",
    "        w2 = w2 - (w2_gradient * lr)\n",
    "\n",
    "        training_loss = -np.sum(Y_train * np.log(y_hat_train)) / Y_train.shape[0]\n",
    "        training_losses.append(training_loss)\n",
    "        test_loss = -np.sum(Y_test * np.log(y_hat_test)) / Y_test.shape[0]\n",
    "        test_losses.append(test_loss)\n",
    "        if i % 100 == 0:\n",
    "            print(\"%5d > Training loss: %.5f - Test loss: %.5f\" % (i, training_loss, test_loss))\n",
    "    return (training_losses, test_losses, w1, w2)"
   ]
  },
  {
   "cell_type": "code",
   "execution_count": 6,
   "metadata": {
    "ExecuteTime": {
     "end_time": "2023-12-05T17:29:40.463788800Z",
     "start_time": "2023-12-05T17:06:50.755567400Z"
    }
   },
   "outputs": [
    {
     "name": "stdout",
     "output_type": "stream",
     "text": [
      "    0 > Training loss: 2.55528 - Test loss: 2.54970\n",
      "  100 > Training loss: 1.03213 - Test loss: 1.01938\n",
      "  200 > Training loss: 0.74561 - Test loss: 0.72525\n",
      "  300 > Training loss: 0.62991 - Test loss: 0.60774\n",
      "  400 > Training loss: 0.56200 - Test loss: 0.54265\n",
      "  500 > Training loss: 0.52122 - Test loss: 0.50603\n",
      "  600 > Training loss: 0.48831 - Test loss: 0.47232\n",
      "  700 > Training loss: 0.46629 - Test loss: 0.44579\n",
      "  800 > Training loss: 0.44648 - Test loss: 0.43076\n",
      "  900 > Training loss: 0.43065 - Test loss: 0.41323\n",
      " 1000 > Training loss: 0.41523 - Test loss: 0.39667\n",
      " 1100 > Training loss: 0.40213 - Test loss: 0.38626\n",
      " 1200 > Training loss: 0.39177 - Test loss: 0.38037\n",
      " 1300 > Training loss: 0.38192 - Test loss: 0.36813\n",
      " 1400 > Training loss: 0.37503 - Test loss: 0.36169\n",
      " 1500 > Training loss: 0.36561 - Test loss: 0.35264\n",
      " 1600 > Training loss: 0.35661 - Test loss: 0.35414\n",
      " 1700 > Training loss: 0.35252 - Test loss: 0.33916\n",
      " 1800 > Training loss: 0.34492 - Test loss: 0.33527\n",
      " 1900 > Training loss: 0.34009 - Test loss: 0.33138\n",
      "Training accuracy: 90.10%, Test accuracy: 90.55%\n"
     ]
    }
   ],
   "source": [
    "training_losses, test_losses, w1, w2 = train(X_train,Y_train, X_test, one_hot_encode(Y_test),\n",
    "                                             n_hidden_nodes=50,\n",
    "                                             iterations=2000,\n",
    "                                             lr=0.01)\n",
    "\n",
    "training_accuracy = accuracy(X_train, Y_train_unencoded, w1, w2)\n",
    "test_accuracy = accuracy(X_test, Y_test, w1, w2)\n",
    "print(\"Training accuracy: %.2f%%, Test accuracy: %.2f%%\" %\n",
    "      (training_accuracy, test_accuracy))"
   ]
  },
  {
   "cell_type": "code",
   "execution_count": 7,
   "metadata": {
    "ExecuteTime": {
     "end_time": "2023-12-05T17:29:40.657307700Z",
     "start_time": "2023-12-05T17:29:40.456788700Z"
    }
   },
   "outputs": [
    {
     "data": {
      "text/plain": "<Figure size 640x480 with 1 Axes>",
      "image/png": "[encoded data removed]"
     },
     "metadata": {},
     "output_type": "display_data"
    }
   ],
   "source": [
    "%matplotlib inline\n",
    "\n",
    "import matplotlib.pyplot as plt\n",
    "import seaborn as sns\n",
    "sns.set()\n",
    "\n",
    "plt.plot(training_losses, label='Training set', color='blue', linestyle='-')\n",
    "plt.plot(test_losses, label='Test set', color='green', linestyle='--')\n",
    "plt.xlabel(\"Iterations\")\n",
    "plt.ylabel(\"Loss\")\n",
    "plt.legend()\n",
    "plt.show()"
   ]
  },
  {
   "cell_type": "markdown",
   "metadata": {},
   "source": [
    "## A Testing Conundrum"
   ]
  },
  {
   "cell_type": "code",
   "execution_count": 9,
   "metadata": {
    "ExecuteTime": {
     "end_time": "2023-12-05T17:29:56.834409100Z",
     "start_time": "2023-12-05T17:29:56.588013500Z"
    }
   },
   "outputs": [],
   "source": [
    "# X_train/X_validation/X_test: 60K/5K/5K images\n",
    "# Each image has 784 elements (28 * 28 pixels)\n",
    "X_train = load_images(\"./mnist/train-images-idx3-ubyte.gz\") #注意檔案路徑是否正確\n",
    "X_test_all = load_images(\"./mnist/t10k-images-idx3-ubyte.gz\") #注意檔案路徑是否正確\n",
    "X_validation, X_test = np.split(X_test_all, 2)"
   ]
  },
  {
   "cell_type": "code",
   "execution_count": 10,
   "metadata": {
    "ExecuteTime": {
     "end_time": "2023-12-05T17:29:58.202808900Z",
     "start_time": "2023-12-05T17:29:58.197407700Z"
    }
   },
   "outputs": [
    {
     "data": {
      "text/plain": "(60000, 784)"
     },
     "execution_count": 10,
     "metadata": {},
     "output_type": "execute_result"
    }
   ],
   "source": [
    "X_train.shape"
   ]
  },
  {
   "cell_type": "code",
   "execution_count": 11,
   "metadata": {
    "ExecuteTime": {
     "end_time": "2023-12-05T17:29:58.923790500Z",
     "start_time": "2023-12-05T17:29:58.910791400Z"
    }
   },
   "outputs": [
    {
     "data": {
      "text/plain": "(5000, 784)"
     },
     "execution_count": 11,
     "metadata": {},
     "output_type": "execute_result"
    }
   ],
   "source": [
    "X_validation.shape"
   ]
  },
  {
   "cell_type": "code",
   "execution_count": 12,
   "metadata": {
    "ExecuteTime": {
     "end_time": "2023-12-05T17:29:59.621705100Z",
     "start_time": "2023-12-05T17:29:59.592679900Z"
    }
   },
   "outputs": [
    {
     "data": {
      "text/plain": "(5000, 784)"
     },
     "execution_count": 12,
     "metadata": {},
     "output_type": "execute_result"
    }
   ],
   "source": [
    "X_test.shape"
   ]
  },
  {
   "cell_type": "code",
   "execution_count": 13,
   "metadata": {
    "ExecuteTime": {
     "end_time": "2023-12-05T17:30:00.353661800Z",
     "start_time": "2023-12-05T17:30:00.197484600Z"
    }
   },
   "outputs": [],
   "source": [
    "# 60K labels, each a single digit from 0 to 9\n",
    "Y_train_unencoded = load_labels(\"./mnist/train-labels-idx1-ubyte.gz\") #注意檔案路徑是否正確\n",
    "\n",
    "# Y_train: 60K labels, each consisting of 10 one-hot encoded elements\n",
    "Y_train = one_hot_encode(Y_train_unencoded)\n",
    "\n",
    "# Y_validation/Y_test: 5K/5K labels, each a single digit from 0 to 9\n",
    "Y_test_all = load_labels(\"./mnist/t10k-labels-idx1-ubyte.gz\") #注意檔案路徑是否正確\n",
    "Y_validation, Y_test = np.split(Y_test_all, 2)"
   ]
  },
  {
   "cell_type": "code",
   "execution_count": 14,
   "metadata": {
    "ExecuteTime": {
     "end_time": "2023-12-05T17:30:05.248857500Z",
     "start_time": "2023-12-05T17:30:05.243327800Z"
    }
   },
   "outputs": [
    {
     "data": {
      "text/plain": "(60000, 10)"
     },
     "execution_count": 14,
     "metadata": {},
     "output_type": "execute_result"
    }
   ],
   "source": [
    "Y_train.shape"
   ]
  },
  {
   "cell_type": "code",
   "execution_count": 15,
   "metadata": {
    "ExecuteTime": {
     "end_time": "2023-12-05T17:30:05.841649200Z",
     "start_time": "2023-12-05T17:30:05.837449100Z"
    }
   },
   "outputs": [
    {
     "data": {
      "text/plain": "(5000, 1)"
     },
     "execution_count": 15,
     "metadata": {},
     "output_type": "execute_result"
    }
   ],
   "source": [
    "Y_validation.shape"
   ]
  },
  {
   "cell_type": "code",
   "execution_count": 16,
   "metadata": {
    "ExecuteTime": {
     "end_time": "2023-12-05T17:30:06.401899200Z",
     "start_time": "2023-12-05T17:30:06.397440600Z"
    }
   },
   "outputs": [
    {
     "data": {
      "text/plain": "(5000, 1)"
     },
     "execution_count": 16,
     "metadata": {},
     "output_type": "execute_result"
    }
   ],
   "source": [
    "Y_test.shape"
   ]
  },
  {
   "cell_type": "code",
   "execution_count": 16,
   "metadata": {
    "ExecuteTime": {
     "end_time": "2023-12-05T17:30:07.253559300Z",
     "start_time": "2023-12-05T17:30:07.237561400Z"
    }
   },
   "outputs": [],
   "source": []
  }
 ],
 "metadata": {
  "kernelspec": {
   "display_name": "Python 3",
   "language": "python",
   "name": "python3"
  },
  "language_info": {
   "codemirror_mode": {
    "name": "ipython",
    "version": 3
   },
   "file_extension": ".py",
   "mimetype": "text/x-python",
   "name": "python",
   "nbconvert_exporter": "python",
   "pygments_lexer": "ipython3",
   "version": "3.8.3"
  }
 },
 "nbformat": 4,
 "nbformat_minor": 2
}
