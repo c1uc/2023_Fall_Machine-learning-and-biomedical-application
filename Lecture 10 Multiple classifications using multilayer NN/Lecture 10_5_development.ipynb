{
 "cells": [
  {
   "cell_type": "markdown",
   "metadata": {},
   "source": [
    "# Chapter 15: Let’s Do Development\n",
    "\n",
    "Paolo Perrotta, Programming Machine Learning: From Coding to Deep Learning (2020)"
   ]
  },
  {
   "cell_type": "markdown",
   "metadata": {},
   "source": [
    "## Preparing Data"
   ]
  },
  {
   "cell_type": "code",
   "execution_count": 1,
   "metadata": {},
   "outputs": [],
   "source": [
    "import numpy as np\n",
    "import gzip\n",
    "import struct\n",
    "\n",
    "\n",
    "def load_images(filename):\n",
    "    # Open and unzip the file of images:\n",
    "    with gzip.open(filename, 'rb') as f:\n",
    "        # Read the header information into a bunch of variables:\n",
    "        _ignored, n_images, columns, rows = struct.unpack('>IIII', f.read(16))\n",
    "        # Read all the pixels into a NumPy array:\n",
    "        all_pixels = np.frombuffer(f.read(), dtype=np.uint8)\n",
    "        # Reshape the pixels into a matrix where each line is an image:\n",
    "        return all_pixels.reshape(n_images, columns * rows)\n",
    "\n",
    "    \n",
    "def load_labels(filename):\n",
    "    # Open and unzip the file of images:\n",
    "    with gzip.open(filename, 'rb') as f:\n",
    "        # Skip the header bytes:\n",
    "        f.read(8)\n",
    "        # Read all the labels into a list:\n",
    "        all_labels = f.read()\n",
    "        # Reshape the list of labels into a one-column matrix:\n",
    "        return np.frombuffer(all_labels, dtype=np.uint8).reshape(-1, 1)\n",
    "\n",
    "\n",
    "def one_hot_encode(Y):\n",
    "    n_labels = Y.shape[0]\n",
    "    n_classes = 10\n",
    "    encoded_Y = np.zeros((n_labels, n_classes))\n",
    "    for i in range(n_labels):\n",
    "        label = Y[i]\n",
    "        encoded_Y[i][label] = 1\n",
    "    return encoded_Y"
   ]
  },
  {
   "cell_type": "code",
   "execution_count": 2,
   "metadata": {},
   "outputs": [],
   "source": [
    "# Prepare MNIST labels.\n",
    "\n",
    "# 60K labels, each a single digit from 0 to 9\n",
    "Y_train_unencoded = load_labels(\"./mnist/train-labels-idx1-ubyte.gz\") #注意檔案路徑是否正確\n",
    "\n",
    "# Y_train: 60K labels, each consisting of 10 one-hot encoded elements\n",
    "Y_train = one_hot_encode(Y_train_unencoded)\n",
    "\n",
    "# Y_validation/Y_test: 5K/5K labels, each a single digit from 0 to 9\n",
    "Y_test_all = load_labels(\"./mnist/t10k-labels-idx1-ubyte.gz\") #注意檔案路徑是否正確\n",
    "Y_validation, Y_test = np.split(Y_test_all, 2)"
   ]
  },
  {
   "cell_type": "code",
   "execution_count": 3,
   "metadata": {},
   "outputs": [],
   "source": [
    "# Prepare non-standardized MNIST inputs.\n",
    "\n",
    "# X_train/X_validation/X_test: 60K/5K/5K images\n",
    "# Each image has 784 elements (28 * 28 pixels)\n",
    "X_train_non_standardized = load_images(\"./mnist/train-images-idx3-ubyte.gz\") #注意檔案路徑是否正確\n",
    "X_test_all_non_standardized = load_images(\"./mnist/t10k-images-idx3-ubyte.gz\") #注意檔案路徑是否正確\n",
    "X_validation_non_standardized, X_test_non_standardized = np.split(X_test_all_non_standardized, 2)"
   ]
  },
  {
   "cell_type": "code",
   "execution_count": 4,
   "metadata": {},
   "outputs": [],
   "source": [
    "# Prepare standardized MNIST inputs.\n",
    "\n",
    "def standardize(training_set, test_set):\n",
    "    average = np.average(training_set)\n",
    "    standard_deviation = np.std(training_set)\n",
    "    training_set_standardized = (training_set - average) / standard_deviation\n",
    "    test_set_standardized = (test_set - average) / standard_deviation\n",
    "    return (training_set_standardized, test_set_standardized)\n",
    "\n",
    "\n",
    "# X_train/X_validation/X_test: 60K/5K/5K images\n",
    "# Each image has 784 elements (28 * 28 pixels)\n",
    "X_train_raw = load_images(\"../data/mnist/train-images-idx3-ubyte.gz\") #注意檔案路徑是否正確\n",
    "X_test_raw = load_images(\"../data/mnist/t10k-images-idx3-ubyte.gz\") #注意檔案路徑是否正確\n",
    "X_train, X_test_all = standardize(X_train_raw, X_test_raw)\n",
    "X_validation, X_test = np.split(X_test_all, 2)"
   ]
  },
  {
   "cell_type": "code",
   "execution_count": 5,
   "metadata": {},
   "outputs": [],
   "source": [
    "# The neural network:\n",
    "\n",
    "import numpy as np\n",
    "\n",
    "def sigmoid(z):\n",
    "    return 1 / (1 + np.exp(-z))"
   ]
  },
  {
   "cell_type": "code",
   "execution_count": 6,
   "metadata": {},
   "outputs": [],
   "source": [
    "def sigmoid_gradient(sigmoid):\n",
    "    return np.multiply(sigmoid, (1 - sigmoid))"
   ]
  },
  {
   "cell_type": "code",
   "execution_count": 7,
   "metadata": {},
   "outputs": [],
   "source": [
    "def softmax(logits):\n",
    "    exponentials = np.exp(logits)\n",
    "    return exponentials / np.sum(exponentials, axis=1).reshape(-1, 1)\n",
    "\n",
    "def loss(Y, y_hat):\n",
    "    return -np.sum(Y * np.log(y_hat)) / Y.shape[0]"
   ]
  },
  {
   "cell_type": "code",
   "execution_count": 8,
   "metadata": {},
   "outputs": [],
   "source": [
    "def prepend_bias(X):\n",
    "    return np.insert(X, 0, 1, axis=1)\n",
    "\n",
    "def forward(X, w1, w2):\n",
    "    h = sigmoid(np.matmul(prepend_bias(X), w1))\n",
    "    y_hat = softmax(np.matmul(prepend_bias(h), w2))\n",
    "    return (y_hat, h)"
   ]
  },
  {
   "cell_type": "code",
   "execution_count": 9,
   "metadata": {},
   "outputs": [],
   "source": [
    "def back(X, Y, y_hat, w2, h):\n",
    "    w2_gradient = np.matmul(prepend_bias(h).T, (y_hat - Y)) / X.shape[0]\n",
    "    w1_gradient = np.matmul(prepend_bias(X).T, np.matmul(y_hat - Y, w2[1:].T)* sigmoid_gradient(h)) / X.shape[0]\n",
    "    return (w1_gradient, w2_gradient)\n",
    "\n",
    "\n",
    "def classify(X, w1, w2):\n",
    "    y_hat, _ = forward(X, w1, w2)\n",
    "    labels = np.argmax(y_hat, axis=1)\n",
    "    return labels.reshape(-1, 1)"
   ]
  },
  {
   "cell_type": "code",
   "execution_count": 10,
   "metadata": {},
   "outputs": [],
   "source": [
    "def initialize_weights(n_input_variables, n_hidden_nodes, n_classes):\n",
    "    w1_rows = n_input_variables + 1\n",
    "    w1 = np.random.randn(w1_rows, n_hidden_nodes) * np.sqrt(1 / w1_rows)\n",
    "\n",
    "    w2_rows = n_hidden_nodes + 1\n",
    "    w2 = np.random.randn(w2_rows, n_classes) * np.sqrt(1 / w2_rows)\n",
    "\n",
    "    return (w1, w2)\n",
    "\n",
    "\n",
    "def prepare_batches(X_train, Y_train, batch_size):\n",
    "    x_batches = []\n",
    "    y_batches = []\n",
    "    n_examples = X_train.shape[0]\n",
    "    for batch in range(0, n_examples, batch_size):\n",
    "        batch_end = batch + batch_size\n",
    "        x_batches.append(X_train[batch:batch_end])\n",
    "        y_batches.append(Y_train[batch:batch_end])\n",
    "    return x_batches, y_batches\n",
    "\n",
    "\n",
    "def report(epoch, batch, X_train, Y_train, X_test, Y_test, w1, w2):\n",
    "    y_hat, _ = forward(X_train, w1, w2)\n",
    "    training_loss = loss(Y_train, y_hat)\n",
    "    classifications = classify(X_test, w1, w2)\n",
    "    accuracy = np.average(classifications == Y_test) * 100.0\n",
    "    if batch % 60 == 0:\n",
    "        print(\"%5d-%d > Loss: %.8f, Accuracy: %.2f%%\" %(epoch, batch, training_loss, accuracy))\n",
    "    \n",
    "def train(X_train, Y_train, X_test, Y_test, n_hidden_nodes, epochs, batch_size, lr):\n",
    "    n_input_variables = X_train.shape[1]\n",
    "    n_classes = Y_train.shape[1]\n",
    "\n",
    "    w1, w2 = initialize_weights(n_input_variables, n_hidden_nodes, n_classes)\n",
    "    x_batches, y_batches = prepare_batches(X_train, Y_train, batch_size)\n",
    "    for epoch in range(epochs):\n",
    "        for batch in range(len(x_batches)):\n",
    "            y_hat, h = forward(x_batches[batch], w1, w2)\n",
    "            w1_gradient, w2_gradient = back(x_batches[batch], y_batches[batch], y_hat, w2, h)\n",
    "            w1 = w1 - (w1_gradient * lr)\n",
    "            w2 = w2 - (w2_gradient * lr)\n",
    "            report(epoch, batch, X_train, Y_train, X_test, Y_test, w1, w2)\n",
    "    return (w1, w2)"
   ]
  },
  {
   "cell_type": "code",
   "execution_count": 11,
   "metadata": {},
   "outputs": [
    {
     "name": "stdout",
     "output_type": "stream",
     "text": [
      "Regular MNIST:\n"
     ]
    },
    {
     "name": "stderr",
     "output_type": "stream",
     "text": [
      "<ipython-input-5-b2c7aad6cd1d>:6: RuntimeWarning: overflow encountered in exp\n",
      "  return 1 / (1 + np.exp(-z))\n"
     ]
    },
    {
     "name": "stdout",
     "output_type": "stream",
     "text": [
      "    0-0 > Loss: 2.37650249, Accuracy: 10.94%\n",
      "    0-60 > Loss: 0.90736720, Accuracy: 74.00%\n",
      "    0-120 > Loss: 0.67966508, Accuracy: 78.36%\n",
      "    0-180 > Loss: 0.63896304, Accuracy: 81.16%\n",
      "    0-240 > Loss: 0.61871490, Accuracy: 83.12%\n",
      "    0-300 > Loss: 0.60742837, Accuracy: 80.10%\n",
      "    0-360 > Loss: 0.52891224, Accuracy: 83.58%\n",
      "    0-420 > Loss: 0.59096331, Accuracy: 81.60%\n",
      "    0-480 > Loss: 0.49844581, Accuracy: 84.34%\n",
      "    0-540 > Loss: 0.52110999, Accuracy: 83.62%\n",
      "    0-600 > Loss: 0.50341176, Accuracy: 83.30%\n",
      "    0-660 > Loss: 0.47282635, Accuracy: 84.56%\n",
      "    0-720 > Loss: 0.52318060, Accuracy: 83.14%\n",
      "    0-780 > Loss: 0.47368982, Accuracy: 84.38%\n",
      "    0-840 > Loss: 0.48131245, Accuracy: 85.66%\n",
      "    0-900 > Loss: 0.45601497, Accuracy: 84.76%\n",
      "    0-960 > Loss: 0.50352819, Accuracy: 83.78%\n",
      "    1-0 > Loss: 0.46574080, Accuracy: 84.70%\n",
      "    1-60 > Loss: 0.46141429, Accuracy: 84.90%\n",
      "    1-120 > Loss: 0.47638184, Accuracy: 84.14%\n",
      "    1-180 > Loss: 0.47724376, Accuracy: 83.50%\n",
      "    1-240 > Loss: 0.48608638, Accuracy: 84.16%\n",
      "    1-300 > Loss: 0.51465193, Accuracy: 82.96%\n",
      "    1-360 > Loss: 0.45126449, Accuracy: 84.92%\n",
      "    1-420 > Loss: 0.44875287, Accuracy: 85.42%\n",
      "    1-480 > Loss: 0.45842228, Accuracy: 84.08%\n",
      "    1-540 > Loss: 0.47801595, Accuracy: 84.58%\n",
      "    1-600 > Loss: 0.45722124, Accuracy: 83.88%\n",
      "    1-660 > Loss: 0.42648419, Accuracy: 85.10%\n",
      "    1-720 > Loss: 0.44083806, Accuracy: 84.46%\n",
      "    1-780 > Loss: 0.41615180, Accuracy: 85.22%\n",
      "    1-840 > Loss: 0.42866952, Accuracy: 84.86%\n",
      "    1-900 > Loss: 0.40211830, Accuracy: 85.88%\n",
      "    1-960 > Loss: 0.42804597, Accuracy: 84.96%\n",
      "Standardized MNIST:\n",
      "    0-0 > Loss: 2.28433323, Accuracy: 10.28%\n",
      "    0-60 > Loss: 0.80226265, Accuracy: 79.42%\n",
      "    0-120 > Loss: 0.57042707, Accuracy: 82.18%\n",
      "    0-180 > Loss: 0.46841762, Accuracy: 85.20%\n",
      "    0-240 > Loss: 0.42405954, Accuracy: 85.84%\n",
      "    0-300 > Loss: 0.39802212, Accuracy: 86.44%\n",
      "    0-360 > Loss: 0.37022788, Accuracy: 87.62%\n",
      "    0-420 > Loss: 0.35783015, Accuracy: 88.08%\n",
      "    0-480 > Loss: 0.33885545, Accuracy: 88.68%\n",
      "    0-540 > Loss: 0.33841206, Accuracy: 87.94%\n",
      "    0-600 > Loss: 0.33388709, Accuracy: 87.80%\n",
      "    0-660 > Loss: 0.31500716, Accuracy: 88.46%\n",
      "    0-720 > Loss: 0.31040526, Accuracy: 89.08%\n",
      "    0-780 > Loss: 0.29916986, Accuracy: 89.06%\n",
      "    0-840 > Loss: 0.29195070, Accuracy: 89.42%\n",
      "    0-900 > Loss: 0.28629575, Accuracy: 89.88%\n",
      "    0-960 > Loss: 0.28176973, Accuracy: 89.80%\n",
      "    1-0 > Loss: 0.28375219, Accuracy: 89.06%\n",
      "    1-60 > Loss: 0.27327028, Accuracy: 90.12%\n",
      "    1-120 > Loss: 0.26154477, Accuracy: 90.62%\n",
      "    1-180 > Loss: 0.26055047, Accuracy: 90.38%\n",
      "    1-240 > Loss: 0.25331348, Accuracy: 90.78%\n",
      "    1-300 > Loss: 0.25411101, Accuracy: 90.86%\n",
      "    1-360 > Loss: 0.24845757, Accuracy: 91.10%\n",
      "    1-420 > Loss: 0.24741809, Accuracy: 91.10%\n",
      "    1-480 > Loss: 0.24126177, Accuracy: 91.56%\n",
      "    1-540 > Loss: 0.24227458, Accuracy: 90.92%\n",
      "    1-600 > Loss: 0.24303120, Accuracy: 90.96%\n",
      "    1-660 > Loss: 0.23513420, Accuracy: 91.20%\n",
      "    1-720 > Loss: 0.23466846, Accuracy: 91.42%\n",
      "    1-780 > Loss: 0.22802356, Accuracy: 91.24%\n",
      "    1-840 > Loss: 0.22458007, Accuracy: 91.22%\n",
      "    1-900 > Loss: 0.21941440, Accuracy: 91.70%\n",
      "    1-960 > Loss: 0.21464525, Accuracy: 91.94%\n"
     ]
    },
    {
     "data": {
      "text/plain": [
       "(array([[ 0.02004785,  0.01490182, -0.02425929, ...,  0.01535862,\n",
       "          0.0628912 ,  0.03688893],\n",
       "        [-0.04800978,  0.02902872,  0.01838625, ...,  0.04489642,\n",
       "          0.0317798 , -0.02459626],\n",
       "        [-0.00940663,  0.00785188,  0.06757994, ..., -0.01781008,\n",
       "          0.03329511,  0.00848511],\n",
       "        ...,\n",
       "        [-0.04702034,  0.00775589, -0.00609494, ..., -0.016192  ,\n",
       "          0.02181002, -0.00787742],\n",
       "        [-0.02800828,  0.0798001 , -0.00055209, ...,  0.04330556,\n",
       "         -0.00203644,  0.04445824],\n",
       "        [ 0.02827284, -0.01745794,  0.02166116, ...,  0.05571084,\n",
       "         -0.01573183, -0.03142068]]),\n",
       " array([[-0.11292168, -0.0438    , -0.05477872, ..., -0.0149589 ,\n",
       "          0.09839213, -0.04658653],\n",
       "        [-0.07461564,  0.09069232, -0.05308991, ...,  0.35527375,\n",
       "         -0.14475129, -0.24813961],\n",
       "        [ 0.20157404,  0.12158986,  0.25001823, ..., -0.35630603,\n",
       "         -0.06801996, -0.18845692],\n",
       "        ...,\n",
       "        [ 0.34474861,  0.02292439, -0.28709883, ...,  0.35598535,\n",
       "         -0.16593101, -0.1288081 ],\n",
       "        [-0.19705836,  0.15647711, -0.29873603, ..., -0.42246058,\n",
       "         -0.00357687,  0.0176201 ],\n",
       "        [-0.14323449,  0.361771  , -0.10686208, ...,  0.31307453,\n",
       "         -0.24652377, -0.03817494]]))"
      ]
     },
     "execution_count": 11,
     "metadata": {},
     "output_type": "execute_result"
    }
   ],
   "source": [
    "print(\"Regular MNIST:\")\n",
    "train(X_train_non_standardized, Y_train, X_validation_non_standardized, Y_validation,\n",
    "      n_hidden_nodes=200, epochs=2, batch_size=60, lr=0.1)\n",
    "\n",
    "print(\"Standardized MNIST:\")\n",
    "train(X_train, Y_train, X_validation, Y_validation,\n",
    "      n_hidden_nodes=200, epochs=2, batch_size=60, lr=0.1)"
   ]
  },
  {
   "cell_type": "markdown",
   "metadata": {},
   "source": [
    "## Tuning Hyperparameters"
   ]
  },
  {
   "cell_type": "code",
   "execution_count": 12,
   "metadata": {},
   "outputs": [],
   "source": [
    "# Compare utility:\n",
    "\n",
    "%matplotlib inline\n",
    "\n",
    "import numpy as np\n",
    "import time\n",
    "import matplotlib.pyplot as plt\n",
    "import seaborn as sns\n",
    "\n",
    "\n",
    "# This train() replaces the previous one, and it differs from it in a few ways:\n",
    "#\n",
    "# * it runs for a specified time, rather than a specified number of epochs;\n",
    "# * it runs quietly instead of reporting the loss and accuracy at each step;\n",
    "# * at each step it stores the loss and time passed, and finally returns those\n",
    "#   histories to the caller;\n",
    "# * it also returns the number of training epochs and the total number of\n",
    "#   gradient descent steps.\n",
    "\n",
    "def train(X_train, Y_train, X_validation, Y_validation,\n",
    "          n_hidden_nodes, lr, batch_size, time_in_seconds):\n",
    "    n_input_variables = X_train.shape[1]\n",
    "    n_classes = Y_train.shape[1]\n",
    "\n",
    "    w1, w2 = initialize_weights(n_input_variables, n_hidden_nodes, n_classes)\n",
    "    x_batches, y_batches = prepare_batches(X_train, Y_train, batch_size)\n",
    "\n",
    "    start_time = time.time()\n",
    "    times = []\n",
    "    losses = []\n",
    "    epochs = 0\n",
    "    steps = 0\n",
    "    while True:\n",
    "        batch = 0\n",
    "        while (batch < len(x_batches)):\n",
    "            training_classifications, _ = forward(X_train, w1, w2)\n",
    "            training_loss = loss(Y_train, training_classifications)\n",
    "            times.append(np.floor(time.time() - start_time))\n",
    "            losses.append(training_loss)\n",
    "\n",
    "            time_passed = time.time() - start_time\n",
    "            if time_passed > time_in_seconds:\n",
    "                return (times, losses, epochs, steps)\n",
    "\n",
    "            y_hat, h = forward(x_batches[batch], w1, w2)\n",
    "            w1_gradient, w2_gradient = back(x_batches[batch], y_batches[batch], y_hat, w2, h)\n",
    "            w1 = w1 - (w1_gradient * lr)\n",
    "            w2 = w2 - (w2_gradient * lr)\n",
    "\n",
    "            batch += 1\n",
    "            steps += 1\n",
    "        epochs += 1\n",
    "\n",
    "\n",
    "# Train the network with the specified configuration\n",
    "def configuration(n_hidden_nodes, batch_size, lr, time_in_seconds, label, color, linestyle):\n",
    "    print(\"Training:\", label)\n",
    "    times, losses, epochs, steps = train(X_train, Y_train, X_validation, Y_validation,\n",
    "                                         n_hidden_nodes=n_hidden_nodes,\n",
    "                                         batch_size=batch_size,\n",
    "                                         lr=lr,\n",
    "                                         time_in_seconds=time_in_seconds)\n",
    "    print(\"  Loss: %.8f (%d epochs completed, %d total steps)\" % (losses[-1], epochs, steps))\n",
    "    plt.plot(times, losses, label=label, color=color, linestyle=linestyle)\n",
    "\n",
    "\n",
    "# Show a chart comparing the loss histories for all configurations\n",
    "def show_results():\n",
    "    sns.set()\n",
    "    plt.xlabel(\"Seconds\")\n",
    "    plt.ylabel(\"Loss\")\n",
    "    plt.legend()\n",
    "    plt.show()"
   ]
  },
  {
   "cell_type": "markdown",
   "metadata": {},
   "source": [
    "### Tuning the Number of Hidden Nodes"
   ]
  },
  {
   "cell_type": "code",
   "execution_count": 13,
   "metadata": {},
   "outputs": [
    {
     "name": "stdout",
     "output_type": "stream",
     "text": [
      "Training: h=10\n",
      "  Loss: 0.31081695 (6 epochs completed, 2919 total steps)\n",
      "Training: h=100\n",
      "  Loss: 0.21858452 (3 epochs completed, 1736 total steps)\n",
      "Training: h=400\n",
      "  Loss: 0.29646288 (1 epochs completed, 784 total steps)\n",
      "Training: h=1000\n",
      "  Loss: 0.35594291 (0 epochs completed, 354 total steps)\n"
     ]
    },
    {
     "data": {
      "image/png": "[encoded data removed]",
      "text/plain": [
       "<Figure size 432x288 with 1 Axes>"
      ]
     },
     "metadata": {
      "needs_background": "light"
     },
     "output_type": "display_data"
    }
   ],
   "source": [
    "batch = 128\n",
    "lr = 0.1\n",
    "time_in_seconds = 60 * 10\n",
    "configuration(n_hidden_nodes=10, batch_size=batch,\n",
    "              lr=lr, time_in_seconds=time_in_seconds,\n",
    "              label=\"h=10\", color='orange', linestyle='-')\n",
    "configuration(n_hidden_nodes=100, batch_size=batch,\n",
    "              lr=lr, time_in_seconds=time_in_seconds,\n",
    "              label=\"h=100\", color='green', linestyle='--')\n",
    "configuration(n_hidden_nodes=400, batch_size=batch,\n",
    "              lr=lr, time_in_seconds=time_in_seconds,\n",
    "              label=\"h=400\", color='blue', linestyle='-.')\n",
    "configuration(n_hidden_nodes=1000, batch_size=batch,\n",
    "              lr=lr, time_in_seconds=time_in_seconds,\n",
    "              label=\"h=1000\", color='black', linestyle=':')\n",
    "show_results()"
   ]
  },
  {
   "cell_type": "markdown",
   "metadata": {},
   "source": [
    "### Tuning the Learning Rate"
   ]
  },
  {
   "cell_type": "code",
   "execution_count": 14,
   "metadata": {},
   "outputs": [
    {
     "name": "stdout",
     "output_type": "stream",
     "text": [
      "Training: lr=0.001\n",
      "  Loss: 1.63098072 (3 epochs completed, 1825 total steps)\n",
      "Training: lr=0.01\n",
      "  Loss: 0.51050912 (3 epochs completed, 1823 total steps)\n",
      "Training: lr=0.1\n",
      "  Loss: 0.21698184 (3 epochs completed, 1821 total steps)\n",
      "Training: lr=1\n",
      "  Loss: 0.06310118 (3 epochs completed, 1812 total steps)\n"
     ]
    },
    {
     "data": {
      "image/png": "[encoded data removed]",
      "text/plain": [
       "<Figure size 432x288 with 1 Axes>"
      ]
     },
     "metadata": {},
     "output_type": "display_data"
    }
   ],
   "source": [
    "hidden = 100\n",
    "batch = 128\n",
    "time_in_seconds = 60 * 10\n",
    "configuration(n_hidden_nodes=hidden, batch_size=batch,\n",
    "              lr=0.001, time_in_seconds=time_in_seconds,\n",
    "              label=\"lr=0.001\", color='orange', linestyle=':')\n",
    "configuration(n_hidden_nodes=hidden, batch_size=batch,\n",
    "              lr=0.01, time_in_seconds=time_in_seconds,\n",
    "              label=\"lr=0.01\", color='green', linestyle='-.')\n",
    "configuration(n_hidden_nodes=hidden, batch_size=batch,\n",
    "              lr=0.1, time_in_seconds=time_in_seconds,\n",
    "              label=\"lr=0.1\", color='blue', linestyle='--')\n",
    "configuration(n_hidden_nodes=hidden, batch_size=batch,\n",
    "              lr=1, time_in_seconds=time_in_seconds,\n",
    "              label=\"lr=1\", color='black', linestyle='-')\n",
    "show_results()"
   ]
  },
  {
   "cell_type": "markdown",
   "metadata": {},
   "source": [
    "### Tuning the Batch Size"
   ]
  },
  {
   "cell_type": "code",
   "execution_count": 15,
   "metadata": {},
   "outputs": [
    {
     "name": "stdout",
     "output_type": "stream",
     "text": [
      "Training: batch_size=60000\n",
      "  Loss: 0.16401598 (320 epochs completed, 320 total steps)\n",
      "Training: batch_size=256\n",
      "  Loss: 0.09217372 (3 epochs completed, 905 total steps)\n",
      "Training: batch_size=128\n",
      "  Loss: 0.10328703 (1 epochs completed, 908 total steps)\n",
      "Training: batch_size=64\n",
      "  Loss: 0.12802424 (0 epochs completed, 912 total steps)\n"
     ]
    },
    {
     "data": {
      "image/png": "[encoded data removed]",
      "text/plain": [
       "<Figure size 432x288 with 1 Axes>"
      ]
     },
     "metadata": {},
     "output_type": "display_data"
    }
   ],
   "source": [
    "hidden = 100\n",
    "lr = 1\n",
    "time_in_seconds = 60 * 5\n",
    "configuration(n_hidden_nodes=hidden, batch_size=60000,\n",
    "              lr=lr, time_in_seconds=time_in_seconds,\n",
    "              label=\"batch_size=60000\", color='orange', linestyle=':')\n",
    "configuration(n_hidden_nodes=hidden, batch_size=256,\n",
    "              lr=lr, time_in_seconds=time_in_seconds,\n",
    "              label=\"batch_size=256\", color='green', linestyle='-.')\n",
    "configuration(n_hidden_nodes=hidden, batch_size=128,\n",
    "              lr=lr, time_in_seconds=time_in_seconds,\n",
    "              label=\"batch_size=128\", color='blue', linestyle='--')\n",
    "configuration(n_hidden_nodes=hidden, batch_size=64,\n",
    "              lr=lr, time_in_seconds=time_in_seconds,\n",
    "              label=\"batch_size=64\", color='black', linestyle='-')\n",
    "show_results()"
   ]
  },
  {
   "cell_type": "markdown",
   "metadata": {},
   "source": [
    "## The Final Test"
   ]
  },
  {
   "cell_type": "code",
   "execution_count": 16,
   "metadata": {},
   "outputs": [],
   "source": [
    "# Remove all the instrumentation from the train() function:\n",
    "\n",
    "def train(X_train, Y_train, X_test, Y_test, n_hidden_nodes,\n",
    "          epochs, batch_size, lr):\n",
    "    n_input_variables = X_train.shape[1]\n",
    "    n_classes = Y_train.shape[1]\n",
    "\n",
    "    w1, w2 = initialize_weights(n_input_variables, n_hidden_nodes, n_classes)\n",
    "    x_batches, y_batches = prepare_batches(X_train, Y_train, batch_size)\n",
    "    for epoch in range(epochs):\n",
    "        for batch in range(len(x_batches)):\n",
    "            y_hat, h = forward(x_batches[batch], w1, w2)\n",
    "            w1_gradient, w2_gradient = back(x_batches[batch], y_batches[batch],\n",
    "                                            y_hat, w2, h)\n",
    "            w1 = w1 - (w1_gradient * lr)\n",
    "            w2 = w2 - (w2_gradient * lr)\n",
    "            report(epoch, batch, X_train, Y_train, X_test, Y_test, w1, w2)\n",
    "    return (w1, w2)"
   ]
  },
  {
   "cell_type": "code",
   "execution_count": 17,
   "metadata": {},
   "outputs": [
    {
     "name": "stdout",
     "output_type": "stream",
     "text": [
      "    0-0 > Loss: 2.51126276, Accuracy: 23.72%\n",
      "    0-60 > Loss: 0.33310378, Accuracy: 93.48%\n",
      "    0-120 > Loss: 0.30845169, Accuracy: 93.60%\n",
      "    0-180 > Loss: 0.23942956, Accuracy: 95.40%\n",
      "    1-0 > Loss: 0.20253645, Accuracy: 95.98%\n",
      "    1-60 > Loss: 0.17660872, Accuracy: 96.48%\n",
      "    1-120 > Loss: 0.17063644, Accuracy: 96.62%\n",
      "    1-180 > Loss: 0.15613097, Accuracy: 96.96%\n",
      "    2-0 > Loss: 0.14175469, Accuracy: 97.18%\n",
      "    2-60 > Loss: 0.12915326, Accuracy: 97.36%\n",
      "    2-120 > Loss: 0.12378315, Accuracy: 97.46%\n",
      "    2-180 > Loss: 0.11946919, Accuracy: 97.50%\n",
      "    3-0 > Loss: 0.11162509, Accuracy: 97.62%\n",
      "    3-60 > Loss: 0.10325359, Accuracy: 97.84%\n",
      "    3-120 > Loss: 0.09893073, Accuracy: 97.88%\n",
      "    3-180 > Loss: 0.09740125, Accuracy: 97.80%\n",
      "    4-0 > Loss: 0.09252305, Accuracy: 97.92%\n",
      "    4-60 > Loss: 0.08625310, Accuracy: 98.02%\n",
      "    4-120 > Loss: 0.08262424, Accuracy: 98.14%\n",
      "    4-180 > Loss: 0.08198647, Accuracy: 98.06%\n",
      "    5-0 > Loss: 0.07886094, Accuracy: 98.14%\n",
      "    5-60 > Loss: 0.07383451, Accuracy: 98.14%\n",
      "    5-120 > Loss: 0.07073606, Accuracy: 98.26%\n",
      "    5-180 > Loss: 0.07050402, Accuracy: 98.18%\n",
      "    6-0 > Loss: 0.06850978, Accuracy: 98.18%\n",
      "    6-60 > Loss: 0.06427044, Accuracy: 98.30%\n",
      "    6-120 > Loss: 0.06155887, Accuracy: 98.42%\n",
      "    6-180 > Loss: 0.06159381, Accuracy: 98.14%\n",
      "    7-0 > Loss: 0.06039157, Accuracy: 98.20%\n",
      "    7-60 > Loss: 0.05656209, Accuracy: 98.32%\n",
      "    7-120 > Loss: 0.05418369, Accuracy: 98.40%\n",
      "    7-180 > Loss: 0.05445090, Accuracy: 98.14%\n",
      "    8-0 > Loss: 0.05370915, Accuracy: 98.32%\n",
      "    8-60 > Loss: 0.05013925, Accuracy: 98.36%\n",
      "    8-120 > Loss: 0.04810499, Accuracy: 98.50%\n",
      "    8-180 > Loss: 0.04856283, Accuracy: 98.14%\n",
      "    9-0 > Loss: 0.04812531, Accuracy: 98.38%\n",
      "    9-60 > Loss: 0.04472160, Accuracy: 98.40%\n",
      "    9-120 > Loss: 0.04300803, Accuracy: 98.52%\n",
      "    9-180 > Loss: 0.04358591, Accuracy: 98.28%\n",
      "Done.\n"
     ]
    }
   ],
   "source": [
    "train(X_train, Y_train, X_test, Y_test,\n",
    "      n_hidden_nodes=100, epochs=10, batch_size=256, lr=1)\n",
    "print(\"Done.\")"
   ]
  },
  {
   "cell_type": "code",
   "execution_count": null,
   "metadata": {},
   "outputs": [],
   "source": []
  }
 ],
 "metadata": {
  "kernelspec": {
   "display_name": "Python 3",
   "language": "python",
   "name": "python3"
  },
  "language_info": {
   "codemirror_mode": {
    "name": "ipython",
    "version": 3
   },
   "file_extension": ".py",
   "mimetype": "text/x-python",
   "name": "python",
   "nbconvert_exporter": "python",
   "pygments_lexer": "ipython3",
   "version": "3.8.3"
  }
 },
 "nbformat": 4,
 "nbformat_minor": 2
}
