{
 "cells": [
  {
   "cell_type": "markdown",
   "metadata": {},
   "source": [
    "# Chapter 13: Batchin' Up\n",
    "\n",
    "Paolo Perrotta, Programming Machine Learning: From Coding to Deep Learning (2020)"
   ]
  },
  {
   "cell_type": "markdown",
   "metadata": {},
   "source": [
    "## Learning, Visualized"
   ]
  },
  {
   "cell_type": "code",
   "execution_count": 1,
   "metadata": {},
   "outputs": [],
   "source": [
    "# Load MNIST\n",
    "\n",
    "import numpy as np\n",
    "import gzip\n",
    "import struct\n",
    "\n",
    "\n",
    "def load_images(filename):\n",
    "    # Open and unzip the file of images:\n",
    "    with gzip.open(filename, 'rb') as f:\n",
    "        # Read the header information into a bunch of variables:\n",
    "        _ignored, n_images, columns, rows = struct.unpack('>IIII', f.read(16))\n",
    "        # Read all the pixels into a NumPy array:\n",
    "        all_pixels = np.frombuffer(f.read(), dtype=np.uint8)\n",
    "        # Reshape the pixels into a matrix where each line is an image:\n",
    "        return all_pixels.reshape(n_images, columns * rows)\n",
    "\n",
    "\n",
    "# 60000 images, each 784 elements (28 * 28 pixels)\n",
    "X_train = load_images(\"../data/mnist/train-images-idx3-ubyte.gz\") #注意檔案路徑是否正確\n",
    "\n",
    "# 10000 images, each 784 elements, with the same structure as X_train\n",
    "X_test = load_images(\"../data/mnist/t10k-images-idx3-ubyte.gz\") #注意檔案路徑是否正確\n",
    "\n",
    "\n",
    "def load_labels(filename):\n",
    "    # Open and unzip the file of images:\n",
    "    with gzip.open(filename, 'rb') as f:\n",
    "        # Skip the header bytes:\n",
    "        f.read(8)\n",
    "        # Read all the labels into a list:\n",
    "        all_labels = f.read()\n",
    "        # Reshape the list of labels into a one-column matrix:\n",
    "        return np.frombuffer(all_labels, dtype=np.uint8).reshape(-1, 1)\n",
    "\n",
    "\n",
    "def one_hot_encode(Y):\n",
    "    n_labels = Y.shape[0]\n",
    "    n_classes = 10\n",
    "    encoded_Y = np.zeros((n_labels, n_classes))\n",
    "    for i in range(n_labels):\n",
    "        label = Y[i]\n",
    "        encoded_Y[i][label] = 1\n",
    "    return encoded_Y\n",
    "\n",
    "\n",
    "# 60K labels, each a single digit from 0 to 9\n",
    "Y_train_unencoded = load_labels(\"../data/mnist/train-labels-idx1-ubyte.gz\") #注意檔案路徑是否正確\n",
    "\n",
    "# 60K labels, each consisting of 10 one-hot encoded elements\n",
    "Y_train = one_hot_encode(Y_train_unencoded)\n",
    "\n",
    "# 10000 labels, each a single digit from 0 to 9\n",
    "Y_test = load_labels(\"../data/mnist/t10k-labels-idx1-ubyte.gz\") #注意檔案路徑是否正確"
   ]
  },
  {
   "cell_type": "code",
   "execution_count": 2,
   "metadata": {},
   "outputs": [
    {
     "name": "stdout",
     "output_type": "stream",
     "text": [
      "[[5]\n",
      " [0]\n",
      " [4]]\n",
      "[[0. 0. 0. 0. 0. 1. 0. 0. 0. 0.]\n",
      " [1. 0. 0. 0. 0. 0. 0. 0. 0. 0.]\n",
      " [0. 0. 0. 0. 1. 0. 0. 0. 0. 0.]]\n"
     ]
    }
   ],
   "source": [
    "print(Y_train_unencoded[0:3])\n",
    "print(Y_train[0:3])"
   ]
  },
  {
   "cell_type": "code",
   "execution_count": 2,
   "metadata": {},
   "outputs": [],
   "source": [
    "import matplotlib.pyplot as plt\n",
    "import seaborn as sns\n",
    "sns.set()"
   ]
  },
  {
   "cell_type": "code",
   "execution_count": 3,
   "metadata": {},
   "outputs": [],
   "source": [
    "# Show matplot charts inside this Jupyter Notebook\n",
    "%matplotlib inline"
   ]
  },
  {
   "cell_type": "code",
   "execution_count": 4,
   "metadata": {},
   "outputs": [],
   "source": [
    "def sigmoid(z):\n",
    "    return 1 / (1 + np.exp(-z))\n",
    "\n",
    "def softmax(logits):\n",
    "    exponentials = np.exp(logits)\n",
    "    return exponentials / np.sum(exponentials, axis=1).reshape(-1, 1)\n",
    "\n",
    "def sigmoid_gradient(sigmoid):\n",
    "    return np.multiply(sigmoid, (1 - sigmoid))\n",
    "\n",
    "def loss(Y, y_hat):\n",
    "    return -np.sum(Y * np.log(y_hat)) / Y.shape[0]\n",
    "\n",
    "def prepend_bias(X):\n",
    "    return np.insert(X, 0, 1, axis=1)\n",
    "\n",
    "def forward(X, w1, w2):\n",
    "    h = sigmoid(np.matmul(prepend_bias(X), w1))\n",
    "    y_hat = softmax(np.matmul(prepend_bias(h), w2))\n",
    "    return (y_hat, h)\n",
    "\n",
    "def back(X, Y, y_hat, w2, h):\n",
    "    w2_gradient = np.matmul(prepend_bias(h).T, (y_hat - Y)) / X.shape[0]\n",
    "    w1_gradient = np.matmul(prepend_bias(X).T, np.matmul(y_hat - Y, w2[1:].T)\n",
    "                            * sigmoid_gradient(h)) / X.shape[0]\n",
    "    return (w1_gradient, w2_gradient)\n",
    "\n",
    "def classify(X, w1, w2):\n",
    "    y_hat, _ = forward(X, w1, w2)\n",
    "    labels = np.argmax(y_hat, axis=1)\n",
    "    return labels.reshape(-1, 1)\n",
    "\n",
    "def initialize_weights(n_input_variables, n_hidden_nodes, n_classes):\n",
    "    w1_rows = n_input_variables + 1\n",
    "    w1 = np.random.randn(w1_rows, n_hidden_nodes) * np.sqrt(1 / w1_rows)\n",
    "\n",
    "    w2_rows = n_hidden_nodes + 1\n",
    "    w2 = np.random.randn(w2_rows, n_classes) * np.sqrt(1 / w2_rows)\n",
    "\n",
    "    return (w1, w2)\n",
    "\n",
    "\n",
    "def report(iteration, X_train, Y_train, X_test, Y_test, w1, w2):\n",
    "    y_hat, _ = forward(X_train, w1, w2)\n",
    "    training_loss = loss(Y_train, y_hat)\n",
    "    classifications = classify(X_test, w1, w2)\n",
    "    accuracy = np.average(classifications == Y_test) * 100.0\n",
    "    print(\"Iteration: %5d, Loss: %.8f, Accuracy: %.2f%%\" %\n",
    "          (iteration, training_loss, accuracy))\n",
    "    return (training_loss, accuracy)\n",
    "\n",
    "\n",
    "def train(X_train, Y_train, X_test, Y_test, n_hidden_nodes, iterations, lr):\n",
    "    n_input_variables = X_train.shape[1]\n",
    "    n_classes = Y_train.shape[1]\n",
    "\n",
    "    loss_history = []\n",
    "    accuracy_history = []\n",
    "    w1, w2 = initialize_weights(n_input_variables, n_hidden_nodes, n_classes)\n",
    "    for i in range(iterations):\n",
    "        y_hat, h = forward(X_train, w1, w2)\n",
    "        training_loss = loss(Y_train, y_hat)\n",
    "        w1_gradient, w2_gradient = back(X_train, Y_train, y_hat, w2, h)\n",
    "        w1 = w1 - (w1_gradient * lr)\n",
    "        w2 = w2 - (w2_gradient * lr)\n",
    "        training_loss, accuracy = report(i, X_train, Y_train, X_test, Y_test,\n",
    "                                         w1, w2)\n",
    "        loss_history.append(training_loss)\n",
    "        accuracy_history.append(accuracy)\n",
    "    return (loss_history, accuracy_history)"
   ]
  },
  {
   "cell_type": "code",
   "execution_count": 5,
   "metadata": {},
   "outputs": [],
   "source": [
    "# Optional: seed the random generator\n",
    "np.random.seed(1234)"
   ]
  },
  {
   "cell_type": "code",
   "execution_count": 6,
   "metadata": {},
   "outputs": [
    {
     "name": "stdout",
     "output_type": "stream",
     "text": [
      "Iteration:     0, Loss: 2.38746031, Accuracy: 13.61%\n",
      "Iteration:     1, Loss: 2.34527197, Accuracy: 15.00%\n",
      "Iteration:     2, Loss: 2.30606144, Accuracy: 16.20%\n",
      "Iteration:     3, Loss: 2.26964373, Accuracy: 17.95%\n",
      "Iteration:     4, Loss: 2.23536024, Accuracy: 19.33%\n",
      "Iteration:     5, Loss: 2.20259660, Accuracy: 21.03%\n",
      "Iteration:     6, Loss: 2.17130247, Accuracy: 22.63%\n",
      "Iteration:     7, Loss: 2.14179651, Accuracy: 24.54%\n",
      "Iteration:     8, Loss: 2.11374257, Accuracy: 26.22%\n",
      "Iteration:     9, Loss: 2.08687697, Accuracy: 28.08%\n",
      "Iteration:    10, Loss: 2.06088792, Accuracy: 29.89%\n",
      "Iteration:    11, Loss: 2.03576266, Accuracy: 31.93%\n",
      "Iteration:    12, Loss: 2.01170585, Accuracy: 33.70%\n",
      "Iteration:    13, Loss: 1.98840241, Accuracy: 35.65%\n",
      "Iteration:    14, Loss: 1.96597698, Accuracy: 37.37%\n",
      "Iteration:    15, Loss: 1.94438512, Accuracy: 39.23%\n",
      "Iteration:    16, Loss: 1.92347162, Accuracy: 41.06%\n",
      "Iteration:    17, Loss: 1.90303485, Accuracy: 42.58%\n",
      "Iteration:    18, Loss: 1.88294585, Accuracy: 44.37%\n",
      "Iteration:    19, Loss: 1.86335386, Accuracy: 45.74%\n",
      "Iteration:    20, Loss: 1.84438219, Accuracy: 47.41%\n",
      "Iteration:    21, Loss: 1.82594666, Accuracy: 48.79%\n",
      "Iteration:    22, Loss: 1.80796874, Accuracy: 50.10%\n",
      "Iteration:    23, Loss: 1.79041624, Accuracy: 51.09%\n",
      "Iteration:    24, Loss: 1.77325855, Accuracy: 52.31%\n",
      "Iteration:    25, Loss: 1.75649556, Accuracy: 53.19%\n",
      "Iteration:    26, Loss: 1.74019880, Accuracy: 54.35%\n",
      "Iteration:    27, Loss: 1.72422267, Accuracy: 55.24%\n",
      "Iteration:    28, Loss: 1.70846034, Accuracy: 56.12%\n",
      "Iteration:    29, Loss: 1.69302948, Accuracy: 57.05%\n"
     ]
    },
    {
     "data": {
      "image/png": "[encoded data removed]",
      "text/plain": [
       "<Figure size 432x288 with 2 Axes>"
      ]
     },
     "metadata": {
      "needs_background": "light"
     },
     "output_type": "display_data"
    }
   ],
   "source": [
    "# Plot loss across ITERATIONS training iterations\n",
    "ITERATIONS = 30\n",
    "\n",
    "loss_history, accuracy_history = train(X_train, Y_train,X_test, Y_test,\n",
    "                                       n_hidden_nodes=200,iterations=ITERATIONS,lr=0.01)\n",
    "\n",
    "plt.subplot(2, 1, 1)\n",
    "plt.ylabel(\"Loss\")\n",
    "plt.plot(loss_history, color='orange')\n",
    "\n",
    "plt.subplot(2, 1, 2)\n",
    "plt.ylabel(\"Accuracy %\")\n",
    "plt.plot(accuracy_history, color='green')\n",
    "\n",
    "plt.show()"
   ]
  },
  {
   "cell_type": "markdown",
   "metadata": {},
   "source": [
    "## Batch by Batch"
   ]
  },
  {
   "cell_type": "code",
   "execution_count": 7,
   "metadata": {},
   "outputs": [],
   "source": [
    "def prepare_batches(X_train, Y_train, batch_size):\n",
    "    x_batches = []\n",
    "    y_batches = []\n",
    "    n_examples = X_train.shape[0]\n",
    "    for batch in range(0, n_examples, batch_size):\n",
    "        batch_end = batch + batch_size\n",
    "        x_batches.append(X_train[batch:batch_end])\n",
    "        y_batches.append(Y_train[batch:batch_end])\n",
    "    return x_batches, y_batches"
   ]
  },
  {
   "cell_type": "code",
   "execution_count": 28,
   "metadata": {},
   "outputs": [
    {
     "name": "stdout",
     "output_type": "stream",
     "text": [
      "[[0]\n",
      " [1]\n",
      " [2]\n",
      " [3]\n",
      " [4]\n",
      " [5]\n",
      " [6]\n",
      " [7]\n",
      " [8]\n",
      " [9]]\n",
      "5\n"
     ]
    },
    {
     "data": {
      "text/plain": [
       "[array([[0],\n",
       "        [1]]),\n",
       " array([[2],\n",
       "        [3]]),\n",
       " array([[4],\n",
       "        [5]]),\n",
       " array([[6],\n",
       "        [7]]),\n",
       " array([[8],\n",
       "        [9]])]"
      ]
     },
     "execution_count": 28,
     "metadata": {},
     "output_type": "execute_result"
    }
   ],
   "source": [
    "tmpx = np.array([[0], [1], [2], [3], [4], [5], [6], [7], [8], [9]])\n",
    "tmpy = np.array([[0], [1], [0], [1], [0], [1], [0], [1], [0], [1]])\n",
    "print(tmpx)\n",
    "tmpx_batches, tmpy_batches = prepare_batches(tmpx, tmpy, 2)\n",
    "print(len(tmpx_batches))\n",
    "tmpx_batches\n"
   ]
  },
  {
   "cell_type": "code",
   "execution_count": 8,
   "metadata": {},
   "outputs": [],
   "source": [
    "def report(epoch, batch, X_train, Y_train, X_test, Y_test, w1, w2):\n",
    "    y_hat, _ = forward(X_train, w1, w2)\n",
    "    training_loss = loss(Y_train, y_hat)\n",
    "    classifications = classify(X_test, w1, w2)\n",
    "    accuracy = np.average(classifications == Y_test) * 100.0\n",
    "    print(\"%5d-%d > Loss: %.8f, Accuracy: %.2f%%\" %\n",
    "          (epoch, batch, training_loss, accuracy))\n",
    "\n",
    "\n",
    "def train(X_train, Y_train, X_test, Y_test, n_hidden_nodes,epochs, batch_size, lr):\n",
    "    n_input_variables = X_train.shape[1]\n",
    "    n_classes = Y_train.shape[1]\n",
    "\n",
    "    w1, w2 = initialize_weights(n_input_variables, n_hidden_nodes, n_classes)\n",
    "    x_batches, y_batches = prepare_batches(X_train, Y_train, batch_size)\n",
    "    for epoch in range(epochs):\n",
    "        for batch in range(len(x_batches)):\n",
    "            y_hat, h = forward(x_batches[batch], w1, w2)\n",
    "            w1_gradient, w2_gradient = back(x_batches[batch], y_batches[batch],\n",
    "                                            y_hat, w2, h)\n",
    "            w1 = w1 - (w1_gradient * lr)\n",
    "            w2 = w2 - (w2_gradient * lr)\n",
    "            report(epoch, batch, X_train, Y_train, X_test, Y_test, w1, w2)\n",
    "    return (w1, w2)"
   ]
  },
  {
   "cell_type": "code",
   "execution_count": 9,
   "metadata": {
    "scrolled": true
   },
   "outputs": [
    {
     "name": "stdout",
     "output_type": "stream",
     "text": [
      "    0-0 > Loss: 2.34087964, Accuracy: 11.34%\n",
      "    0-1 > Loss: 2.30285210, Accuracy: 13.07%\n",
      "    0-2 > Loss: 2.26698586, Accuracy: 14.82%\n",
      "    1-0 > Loss: 2.23393354, Accuracy: 16.98%\n",
      "    1-1 > Loss: 2.20321348, Accuracy: 19.33%\n",
      "    1-2 > Loss: 2.17326650, Accuracy: 21.54%\n"
     ]
    }
   ],
   "source": [
    "w1, w2 = train(X_train, Y_train, X_test, Y_test,\n",
    "               n_hidden_nodes=200, epochs=2, batch_size=20000, lr=0.01)"
   ]
  },
  {
   "cell_type": "markdown",
   "metadata": {},
   "source": [
    "## Understanding Batches"
   ]
  },
  {
   "cell_type": "code",
   "execution_count": 10,
   "metadata": {},
   "outputs": [],
   "source": [
    "import time\n",
    "\n",
    "# This train() is different from the original one in a few ways:\n",
    "# * it goes on until a specified time has passed, rather than after a specified\n",
    "#   number of epochs;\n",
    "# * it does its job quietly instead of reporting the loss and accuracy at each\n",
    "#   step;\n",
    "# * it stores the loss and the time passed after each step, so that it can\n",
    "#   return that history to the caller;\n",
    "# * it also returns the number of training epochs and the total number of\n",
    "#   gradient descent steps.\n",
    "def train(X_train, Y_train, X_test, Y_test,\n",
    "          n_hidden_nodes, lr, batch_size, time_in_seconds):\n",
    "    n_input_variables = X_train.shape[1]\n",
    "    n_classes = Y_train.shape[1]\n",
    "\n",
    "    w1, w2 = initialize_weights(n_input_variables,\n",
    "                                   n_hidden_nodes, n_classes)\n",
    "    x_batches, y_batches = prepare_batches(X_train, Y_train, batch_size)\n",
    "\n",
    "    start_time = time.time()\n",
    "    times = []\n",
    "    losses = []\n",
    "    epochs = 0\n",
    "    steps = 0\n",
    "    while True:\n",
    "        batch = 0\n",
    "        while (batch < len(x_batches)):\n",
    "            training_classifications, _ = forward(X_train, w1, w2)\n",
    "            training_loss = loss(Y_train, training_classifications)\n",
    "            times.append(np.floor(time.time() - start_time))\n",
    "            losses.append(training_loss)\n",
    "\n",
    "            time_passed = time.time() - start_time\n",
    "            if time_passed > time_in_seconds:\n",
    "                return (times, losses, epochs, steps)\n",
    "\n",
    "            y_hat, h = forward(x_batches[batch], w1, w2)\n",
    "            w1_gradient, w2_gradient = back(x_batches[batch],\n",
    "                                        y_batches[batch],\n",
    "                                               y_hat, w2, h)\n",
    "            w1 = w1 - (w1_gradient * lr)\n",
    "            w2 = w2 - (w2_gradient * lr)\n",
    "\n",
    "            batch += 1\n",
    "            steps += 1\n",
    "        epochs += 1"
   ]
  },
  {
   "cell_type": "code",
   "execution_count": 11,
   "metadata": {},
   "outputs": [],
   "source": [
    "def plot_loss(n_hidden_nodes, batch_size, lr,\n",
    "              time_in_seconds, label, color):\n",
    "    print(\"Training:\", label)\n",
    "    times, losses, epochs, steps = train(X_train, Y_train,\n",
    "                                         X_test, Y_test,\n",
    "                                         n_hidden_nodes=n_hidden_nodes,\n",
    "                                         batch_size=batch_size, lr=lr,\n",
    "                                         time_in_seconds=time_in_seconds)\n",
    "    print(\"  Loss: %.8f (%d epochs completed, %d total steps)\" %\n",
    "          (losses[-1], epochs, steps))\n",
    "    plt.plot(times, losses, label=label, color=color)\n",
    "\n",
    "\n",
    "def show_plot():\n",
    "    sns.set()\n",
    "\n",
    "    plt.xlabel(\"Seconds\")\n",
    "    plt.ylabel(\"Loss\")\n",
    "\n",
    "    # Add a legend and show the chart\n",
    "    plt.legend()\n",
    "    plt.show()"
   ]
  },
  {
   "cell_type": "code",
   "execution_count": 12,
   "metadata": {},
   "outputs": [
    {
     "name": "stdout",
     "output_type": "stream",
     "text": [
      "Training: Stochastic GD\n"
     ]
    },
    {
     "name": "stderr",
     "output_type": "stream",
     "text": [
      "<ipython-input-4-a743002ee2c1>:2: RuntimeWarning: overflow encountered in exp\n",
      "  return 1 / (1 + np.exp(-z))\n"
     ]
    },
    {
     "name": "stdout",
     "output_type": "stream",
     "text": [
      "  Loss: 2.20396047 (0 epochs completed, 127 total steps)\n",
      "Training: Batch size 32\n",
      "  Loss: 1.11836554 (0 epochs completed, 137 total steps)\n",
      "Training: Batch size 128\n",
      "  Loss: 0.93427890 (0 epochs completed, 138 total steps)\n",
      "Training: Batch GD\n",
      "  Loss: 1.54443043 (46 epochs completed, 46 total steps)\n"
     ]
    },
    {
     "data": {
      "image/png": "[encoded data removed]",
      "text/plain": [
       "<Figure size 432x288 with 1 Axes>"
      ]
     },
     "metadata": {
      "needs_background": "light"
     },
     "output_type": "display_data"
    }
   ],
   "source": [
    "# -------------------------------------------------------\n",
    "# Change the following lines to make your own comparisons\n",
    "\n",
    "# The running time of each batch size, in seconds\n",
    "# (for the diagrams in the book, I used 1800 seconds):\n",
    "TIME = 60\n",
    "\n",
    "# The number of hidden nodes:\n",
    "HIDDEN_NODES = 200\n",
    "\n",
    "# The learning rate:\n",
    "lr = 0.01\n",
    "\n",
    "plot_loss(n_hidden_nodes=HIDDEN_NODES,\n",
    "          batch_size=1, lr=lr,\n",
    "          time_in_seconds=TIME,\n",
    "          label=\"Stochastic GD\", color='orange')\n",
    "plot_loss(n_hidden_nodes=HIDDEN_NODES,\n",
    "          batch_size=32, lr=lr,\n",
    "          time_in_seconds=TIME,\n",
    "          label=\"Batch size 32\", color='green')\n",
    "plot_loss(n_hidden_nodes=HIDDEN_NODES,\n",
    "          batch_size=128, lr=lr,\n",
    "          time_in_seconds=TIME,\n",
    "          label=\"Batch size 128\", color='blue')\n",
    "plot_loss(n_hidden_nodes=HIDDEN_NODES,\n",
    "          batch_size=X_train.shape[0], lr=lr,\n",
    "          time_in_seconds=TIME,\n",
    "          label=\"Batch GD\", color='black')\n",
    "# -----------------------------------------------\n",
    "\n",
    "show_plot()"
   ]
  },
  {
   "cell_type": "code",
   "execution_count": null,
   "metadata": {},
   "outputs": [],
   "source": []
  },
  {
   "cell_type": "code",
   "execution_count": null,
   "metadata": {},
   "outputs": [],
   "source": []
  }
 ],
 "metadata": {
  "kernelspec": {
   "display_name": "Python 3",
   "language": "python",
   "name": "python3"
  },
  "language_info": {
   "codemirror_mode": {
    "name": "ipython",
    "version": 3
   },
   "file_extension": ".py",
   "mimetype": "text/x-python",
   "name": "python",
   "nbconvert_exporter": "python",
   "pygments_lexer": "ipython3",
   "version": "3.8.3"
  }
 },
 "nbformat": 4,
 "nbformat_minor": 2
}
