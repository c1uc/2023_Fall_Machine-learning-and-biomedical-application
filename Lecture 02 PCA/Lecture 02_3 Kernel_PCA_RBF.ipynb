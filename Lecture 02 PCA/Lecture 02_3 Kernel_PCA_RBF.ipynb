{
 "cells": [
  {
   "cell_type": "markdown",
   "metadata": {},
   "source": [
    "https://odsc.medium.com/implementing-a-kernel-principal-component-analysis-in-python-495f04a7f85f"
   ]
  },
  {
   "cell_type": "code",
   "execution_count": 33,
   "metadata": {},
   "outputs": [],
   "source": [
    "from scipy.spatial.distance import pdist, squareform\n",
    "from scipy import exp\n",
    "from scipy.linalg import eigh\n",
    "import numpy as np \n",
    "def rbf_kernel_pca(X, gamma, n_components):\n",
    "    \"\"\"\n",
    "    RBF kernel PCA implementation.    \n",
    "    Parameters\n",
    "    ------------\n",
    "    X: {NumPy ndarray}, shape = [n_examples, n_features]  \n",
    "    gamma: float\n",
    "            Tuning parameter of the RBF kernel    \n",
    "    n_components: int\n",
    "        Number of principal components to return    \n",
    "    Returns\n",
    "    ------------\n",
    "    X_pc: {NumPy ndarray}, shape = [n_examples, k_features]\n",
    "        Projected dataset   \n",
    "    \"\"\"\n",
    "    # Calculate pairwise squared Euclidean distances\n",
    "    # in the MxN dimensional dataset.\n",
    "    sq_dists = pdist(X, 'sqeuclidean') # C(100,2)=100x99/2!=50x99=4950\n",
    "    print(sq_dists)\n",
    "    print(sq_dists.shape)\n",
    "    # Convert pairwise distances into a square matrix.\n",
    "    mat_sq_dists = squareform(sq_dists)  \n",
    "    print(mat_sq_dists)\n",
    "    print(mat_sq_dists.shape)\n",
    "    # Compute the symmetric kernel matrix.\n",
    "    K = exp(-gamma * mat_sq_dists)    # K(xm,xn)=exp(-r*(xn-xm)^2)\n",
    "    # Center the kernel matrix.\n",
    "    N = K.shape[0]\n",
    "    one_n = np.ones((N,N)) / N\n",
    "    K = K - one_n.dot(K) - K.dot(one_n) + one_n.dot(K).dot(one_n)    \n",
    "    # Obtaining eigenpairs from the centered kernel matrix\n",
    "    # scipy.linalg.eigh returns them in ascending order\n",
    "    eigvals, eigvecs = eigh(K)\n",
    "    eigvals, eigvecs = eigvals[::-1], eigvecs[:, ::-1]    \n",
    "    # Collect the top k eigenvectors (projected examples)\n",
    "    X_pc = np.column_stack([eigvecs[:, i] for i in range(n_components)])    \n",
    "    return X_pc\n"
   ]
  },
  {
   "cell_type": "code",
   "execution_count": 37,
   "metadata": {},
   "outputs": [
    {
     "name": "stdout",
     "output_type": "stream",
     "text": [
      "[[ 8.71318704e-01  4.90717552e-01]\n",
      " [ 7.15472413e-01 -4.58667853e-01]\n",
      " [ 1.46253829e+00 -3.86599306e-01]\n",
      " [-2.22520934e-01  9.74927912e-01]\n",
      " [ 3.27699110e-01 -2.40277997e-01]\n",
      " [ 1.00000000e+00  0.00000000e+00]\n",
      " [ 9.49055747e-01  3.15108218e-01]\n",
      " [ 0.00000000e+00  5.00000000e-01]\n",
      " [ 1.40478334e+00 -4.14412623e-01]\n",
      " [ 9.67294863e-01  2.53654584e-01]\n",
      " [ 9.60230259e-02  9.95379113e-01]\n",
      " [ 4.27883340e-01 -3.20172255e-01]\n",
      " [ 1.09602303e+00 -4.95379113e-01]\n",
      " [ 1.98586378e-01 -9.81105305e-02]\n",
      " [ 3.20515776e-02  9.99486216e-01]\n",
      " [-9.00968868e-01  4.33883739e-01]\n",
      " [ 1.15959990e+00 -4.87181783e-01]\n",
      " [-7.61445958e-01  6.48228395e-01]\n",
      " [ 7.30832427e-02  1.24732995e-01]\n",
      " [ 1.03205158e+00 -4.99486216e-01]\n",
      " [-6.23489802e-01  7.81831482e-01]\n",
      " [ 1.76144596e+00 -1.48228395e-01]\n",
      " [ 3.45365054e-01  9.38468422e-01]\n",
      " [-2.84527587e-01  9.58667853e-01]\n",
      " [-4.04783343e-01  9.14412623e-01]\n",
      " [ 1.87131870e+00  9.28244800e-03]\n",
      " [ 1.62348980e+00 -2.81831482e-01]\n",
      " [ 8.38088105e-01  5.45534901e-01]\n",
      " [ 1.84408430e-02  3.08841371e-01]\n",
      " [-8.71318704e-01  4.90717552e-01]\n",
      " [ 2.22520934e-01  9.74927912e-01]\n",
      " [ 1.83808810e+00 -4.55349012e-02]\n",
      " [-5.18392568e-01  8.55142763e-01]\n",
      " [ 6.54634946e-01 -4.38468422e-01]\n",
      " [ 1.57211666e+00 -3.20172255e-01]\n",
      " [ 1.71834935e+00 -1.95682551e-01]\n",
      " [ 1.96729486e+00  2.46345416e-01]\n",
      " [ 1.99179001e+00  3.72122838e-01]\n",
      " [ 2.81650650e-01 -1.95682551e-01]\n",
      " [ 7.18349350e-01  6.95682551e-01]\n",
      " [ 2.84527587e-01  9.58667853e-01]\n",
      " [ 1.80141362e+00 -9.81105305e-02]\n",
      " [-7.18349350e-01  6.95682551e-01]\n",
      " [ 1.61911895e-01 -4.55349012e-02]\n",
      " [ 9.97945393e-01  6.40702200e-02]\n",
      " [ 9.67948422e-01 -4.99486216e-01]\n",
      " [ 7.61445958e-01  6.48228395e-01]\n",
      " [ 1.28452759e+00 -4.58667853e-01]\n",
      " [ 6.23489802e-01  7.81831482e-01]\n",
      " [ 3.27051370e-02  2.46345416e-01]\n",
      " [ 5.18392568e-01  8.55142763e-01]\n",
      " [-9.60230259e-02  9.95379113e-01]\n",
      " [ 2.05460725e-03  4.35929780e-01]\n",
      " [-9.67294863e-01  2.53654584e-01]\n",
      " [ 9.26916757e-01  3.75267005e-01]\n",
      " [ 1.99794539e+00  4.35929780e-01]\n",
      " [-3.45365054e-01  9.38468422e-01]\n",
      " [-9.49055747e-01  3.15108218e-01]\n",
      " [ 8.40400105e-01 -4.87181783e-01]\n",
      " [-9.26916757e-01  3.75267005e-01]\n",
      " [ 5.72116660e-01  8.20172255e-01]\n",
      " [ 1.94905575e+00  1.84891782e-01]\n",
      " [ 4.04783343e-01  9.14412623e-01]\n",
      " [ 6.72300890e-01  7.40277997e-01]\n",
      " [ 1.59599895e-01  9.87181783e-01]\n",
      " [ 8.01413622e-01  5.98110530e-01]\n",
      " [ 1.28681296e-01  9.28244800e-03]\n",
      " [ 7.77479066e-01 -4.74927912e-01]\n",
      " [ 3.76510198e-01 -2.81831482e-01]\n",
      " [ 9.81559157e-01  1.91158629e-01]\n",
      " [-8.38088105e-01  5.45534901e-01]\n",
      " [-5.72116660e-01  8.20172255e-01]\n",
      " [-1.59599895e-01  9.87181783e-01]\n",
      " [ 8.20998618e-03  3.72122838e-01]\n",
      " [ 9.00968868e-01  4.33883739e-01]\n",
      " [-9.97945393e-01  6.40702200e-02]\n",
      " [ 2.38554042e-01 -1.48228395e-01]\n",
      " [ 1.92691676e+00  1.24732995e-01]\n",
      " [ 2.00000000e+00  5.00000000e-01]\n",
      " [-8.01413622e-01  5.98110530e-01]\n",
      " [ 9.91790014e-01  1.27877162e-01]\n",
      " [ 5.37461710e-01 -3.86599306e-01]\n",
      " [ 5.09442530e-02  1.84891782e-01]\n",
      " [-1.00000000e+00  1.22464680e-16]\n",
      " [ 5.95216657e-01 -4.14412623e-01]\n",
      " [ 1.34536505e+00 -4.38468422e-01]\n",
      " [-6.72300890e-01  7.40277997e-01]\n",
      " [ 1.22252093e+00 -4.74927912e-01]\n",
      " [ 1.98155916e+00  3.08841371e-01]\n",
      " [-3.20515776e-02  9.99486216e-01]\n",
      " [-9.81559157e-01  1.91158629e-01]\n",
      " [-4.62538290e-01  8.86599306e-01]\n",
      " [ 9.03976974e-01 -4.95379113e-01]\n",
      " [-9.91790014e-01  1.27877162e-01]\n",
      " [ 1.67230089e+00 -2.40277997e-01]\n",
      " [ 9.90311321e-02  6.61162609e-02]\n",
      " [ 1.51839257e+00 -3.55142763e-01]\n",
      " [ 4.62538290e-01  8.86599306e-01]\n",
      " [ 1.90096887e+00  6.61162609e-02]\n",
      " [ 4.81607432e-01 -3.55142763e-01]]\n",
      "(100, 2)\n",
      "[0 1 1 0 1 0 0 1 1 0 0 1 1 1 0 0 1 0 1 1 0 1 0 0 0 1 1 0 1 0 0 1 0 1 1 1 1\n",
      " 1 1 0 0 1 0 1 0 1 0 1 0 1 0 0 1 0 0 1 0 0 1 0 0 1 0 0 0 0 1 1 1 0 0 0 0 1\n",
      " 0 0 1 1 1 0 0 1 1 0 1 1 0 1 1 0 0 0 1 0 1 1 1 0 1 1]\n",
      "(100,)\n",
      "[ 0.8713187  -0.22252093  1.          0.94905575  0.96729486  0.09602303\n",
      "  0.03205158 -0.90096887 -0.76144596 -0.6234898   0.34536505 -0.28452759\n",
      " -0.40478334  0.8380881  -0.8713187   0.22252093 -0.51839257  0.71834935\n",
      "  0.28452759 -0.71834935  0.99794539  0.76144596  0.6234898   0.51839257\n",
      " -0.09602303 -0.96729486  0.92691676 -0.34536505 -0.94905575 -0.92691676\n",
      "  0.57211666  0.40478334  0.67230089  0.1595999   0.80141362  0.98155916\n",
      " -0.8380881  -0.57211666 -0.1595999   0.90096887 -0.99794539 -0.80141362\n",
      "  0.99179001 -1.         -0.67230089 -0.03205158 -0.98155916 -0.46253829\n",
      " -0.99179001  0.46253829]\n"
     ]
    },
    {
     "data": {
      "image/png": "[encoded data removed]",
      "text/plain": [
       "<Figure size 432x288 with 1 Axes>"
      ]
     },
     "metadata": {
      "needs_background": "light"
     },
     "output_type": "display_data"
    }
   ],
   "source": [
    "from sklearn.datasets import make_moons\n",
    "import matplotlib.pyplot as plt\n",
    "\n",
    "X, y = make_moons(100, random_state=123)\n",
    "print(X)\n",
    "print(X.shape)\n",
    "print(y)\n",
    "print(y.shape)\n",
    "print(X[y==0, 0])\n",
    "\n",
    "# Thus X[y==0,0] finds all the rows of X that have a y value of 0 (y == 0), \n",
    "# and are in the first column of X\n",
    "\n",
    "plt.scatter(X[y==0, 0], X[y==0, 1],color='red', marker='^', alpha=0.5)\n",
    "plt.scatter(X[y==1, 0], X[y==1, 1],color='blue', marker='o', alpha=0.5)\n",
    "plt.tight_layout()\n",
    "plt.show()"
   ]
  },
  {
   "cell_type": "code",
   "execution_count": 38,
   "metadata": {},
   "outputs": [
    {
     "data": {
      "image/png": "[encoded data removed]",
      "text/plain": [
       "<Figure size 504x216 with 2 Axes>"
      ]
     },
     "metadata": {
      "needs_background": "light"
     },
     "output_type": "display_data"
    }
   ],
   "source": [
    "from sklearn.decomposition import PCA\n",
    "scikit_pca = PCA(n_components=2)\n",
    "X_spca = scikit_pca.fit_transform(X)\n",
    "fig, ax = plt.subplots(nrows=1, ncols=2, figsize=(7,3))\n",
    "ax[0].scatter(X_spca[y==0, 0], X_spca[y==0, 1],color='red', marker='^', alpha=0.5)\n",
    "ax[0].scatter(X_spca[y==1, 0], X_spca[y==1, 1],color='blue', marker='o', alpha=0.5)\n",
    "ax[1].scatter(X_spca[y==0, 0], np.zeros((50,1))+0.02,color='red', marker='^', alpha=0.5)\n",
    "ax[1].scatter(X_spca[y==1, 0], np.zeros((50,1))-0.02,color='blue', marker='o', alpha=0.5)\n",
    "ax[0].set_xlabel('PC1')\n",
    "ax[0].set_ylabel('PC2')\n",
    "ax[1].set_ylim([-1, 1])\n",
    "ax[1].set_yticks([])\n",
    "ax[1].set_xlabel('PC1')\n",
    "plt.tight_layout()\n",
    "plt.show()"
   ]
  },
  {
   "cell_type": "code",
   "execution_count": 39,
   "metadata": {},
   "outputs": [
    {
     "name": "stdout",
     "output_type": "stream",
     "text": [
      "[0.92562071 1.11922547 1.43094483 ... 2.74227495 1.542287   2.19204605]\n",
      "(4950,)\n",
      "[[0.         0.92562071 1.11922547 ... 0.32382379 1.24046572 0.86735455]\n",
      " [0.92562071 0.         0.5633013  ... 1.8737194  1.68080021 0.06541027]\n",
      " [1.11922547 0.5633013  0.         ... 2.62103471 0.39717276 0.96321486]\n",
      " ...\n",
      " [0.32382379 1.8737194  2.62103471 ... 0.         2.74227495 1.542287  ]\n",
      " [1.24046572 1.68080021 0.39717276 ... 2.74227495 0.         2.19204605]\n",
      " [0.86735455 0.06541027 0.96321486 ... 1.542287   2.19204605 0.        ]]\n",
      "(100, 100)\n"
     ]
    },
    {
     "name": "stderr",
     "output_type": "stream",
     "text": [
      "<ipython-input-33-40d25d04a651>:30: DeprecationWarning: scipy.exp is deprecated and will be removed in SciPy 2.0.0, use numpy.exp instead\n",
      "  K = exp(-gamma * mat_sq_dists)\n"
     ]
    },
    {
     "data": {
      "image/png": "[encoded data removed]",
      "text/plain": [
       "<Figure size 504x216 with 2 Axes>"
      ]
     },
     "metadata": {
      "needs_background": "light"
     },
     "output_type": "display_data"
    }
   ],
   "source": [
    "X_kpca = rbf_kernel_pca(X, gamma=15, n_components=2)\n",
    "fig, ax = plt.subplots(nrows=1, ncols=2, figsize=(7, 3))\n",
    "ax[0].scatter(X_kpca[y==0, 0], X_kpca[y==0, 1],color='red', marker='^', alpha=0.5)\n",
    "ax[0].scatter(X_kpca[y==1, 0], X_kpca[y==1, 1],color='blue', marker='o', alpha=0.5)\n",
    "ax[1].scatter(X_kpca[y==0, 0], np.zeros((50,1))+0.02,color='red', marker='^', alpha=0.5)\n",
    "ax[1].scatter(X_kpca[y==1, 0], np.zeros((50,1))-0.02,color='blue', marker='o', alpha=0.5)\n",
    "ax[0].set_xlabel('PC1')\n",
    "ax[0].set_ylabel('PC2')\n",
    "ax[1].set_ylim([-1, 1])\n",
    "ax[1].set_yticks([])\n",
    "ax[1].set_xlabel('PC1')\n",
    "plt.tight_layout()\n",
    "plt.show()"
   ]
  },
  {
   "cell_type": "code",
   "execution_count": 40,
   "metadata": {},
   "outputs": [],
   "source": [
    "# The followings are tests"
   ]
  },
  {
   "cell_type": "code",
   "execution_count": 4,
   "metadata": {
    "scrolled": true
   },
   "outputs": [
    {
     "name": "stdout",
     "output_type": "stream",
     "text": [
      "[[1 2]\n",
      " [3 4]\n",
      " [5 6]]\n",
      "(3, 2)\n",
      "[ 8. 32.  8.]\n",
      "[[ 0.  8. 32.]\n",
      " [ 8.  0.  8.]\n",
      " [32.  8.  0.]]\n",
      "[[1.00000000e+00 3.35462628e-04 1.26641655e-14]\n",
      " [3.35462628e-04 1.00000000e+00 3.35462628e-04]\n",
      " [1.26641655e-14 3.35462628e-04 1.00000000e+00]]\n",
      "3.0013418505116354\n"
     ]
    },
    {
     "name": "stderr",
     "output_type": "stream",
     "text": [
      "<ipython-input-4-4d3d730d42f9>:11: DeprecationWarning: scipy.exp is deprecated and will be removed in SciPy 2.0.0, use numpy.exp instead\n",
      "  print(exp(-1 * mat_sq_dists))\n",
      "<ipython-input-4-4d3d730d42f9>:12: DeprecationWarning: scipy.exp is deprecated and will be removed in SciPy 2.0.0, use numpy.exp instead\n",
      "  print(np.sum(exp(-1 * mat_sq_dists)))\n"
     ]
    }
   ],
   "source": [
    "from scipy.spatial.distance import pdist, squareform\n",
    "import numpy as np\n",
    "from scipy import exp\n",
    "X=np.array([[1, 2], [3, 4], [5, 6]])\n",
    "sq_dists = pdist(X, 'sqeuclidean') # the squared Euclidean distance between paired vectors.\n",
    "print(X)\n",
    "print(X.shape)\n",
    "print(sq_dists)\n",
    "mat_sq_dists = squareform(sq_dists)  \n",
    "print(mat_sq_dists)\n",
    "print(exp(-1 * mat_sq_dists))\n",
    "print(np.sum(exp(-1 * mat_sq_dists)))"
   ]
  },
  {
   "cell_type": "code",
   "execution_count": 46,
   "metadata": {},
   "outputs": [
    {
     "name": "stdout",
     "output_type": "stream",
     "text": [
      "[[0.33333333 0.33333333 0.33333333]\n",
      " [0.33333333 0.33333333 0.33333333]\n",
      " [0.33333333 0.33333333 0.33333333]]\n"
     ]
    }
   ],
   "source": [
    "N=3\n",
    "one_n = np.ones((N,N)) / N\n",
    "print(one_n)"
   ]
  },
  {
   "cell_type": "code",
   "execution_count": 49,
   "metadata": {},
   "outputs": [
    {
     "name": "stdout",
     "output_type": "stream",
     "text": [
      "[[1 2 3]\n",
      " [4 5 6]\n",
      " [7 8 9]]\n"
     ]
    }
   ],
   "source": [
    "K=np.array([[1, 2, 3], [4, 5, 6], [7, 8, 9]])\n",
    "print(K)"
   ]
  },
  {
   "cell_type": "code",
   "execution_count": 48,
   "metadata": {},
   "outputs": [
    {
     "name": "stdout",
     "output_type": "stream",
     "text": [
      "[[4. 5. 6.]\n",
      " [4. 5. 6.]\n",
      " [4. 5. 6.]]\n"
     ]
    }
   ],
   "source": [
    "print(one_n.dot(K)) # one_n x K 兩矩陣相乘"
   ]
  },
  {
   "cell_type": "code",
   "execution_count": 50,
   "metadata": {},
   "outputs": [
    {
     "name": "stdout",
     "output_type": "stream",
     "text": [
      "[[2. 2. 2.]\n",
      " [5. 5. 5.]\n",
      " [8. 8. 8.]]\n"
     ]
    }
   ],
   "source": [
    "print(K.dot(one_n)) # K x one_n  兩矩陣相乘"
   ]
  },
  {
   "cell_type": "code",
   "execution_count": 52,
   "metadata": {},
   "outputs": [
    {
     "name": "stdout",
     "output_type": "stream",
     "text": [
      "[[5. 5. 5.]\n",
      " [5. 5. 5.]\n",
      " [5. 5. 5.]]\n"
     ]
    }
   ],
   "source": [
    "print(one_n.dot(K).dot(one_n)) # one_n x K x one_n"
   ]
  },
  {
   "cell_type": "code",
   "execution_count": null,
   "metadata": {},
   "outputs": [],
   "source": []
  }
 ],
 "metadata": {
  "kernelspec": {
   "display_name": "Python 3",
   "language": "python",
   "name": "python3"
  },
  "language_info": {
   "codemirror_mode": {
    "name": "ipython",
    "version": 3
   },
   "file_extension": ".py",
   "mimetype": "text/x-python",
   "name": "python",
   "nbconvert_exporter": "python",
   "pygments_lexer": "ipython3",
   "version": "3.8.3"
  }
 },
 "nbformat": 4,
 "nbformat_minor": 4
}
