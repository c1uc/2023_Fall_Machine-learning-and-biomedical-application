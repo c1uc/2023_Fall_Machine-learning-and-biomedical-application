{
 "cells": [
  {
   "cell_type": "markdown",
   "metadata": {},
   "source": [
    "https://www.tutorialspoint.com/python_data_structure/python_binary_tree.htm"
   ]
  },
  {
   "cell_type": "markdown",
   "metadata": {},
   "source": [
    "Create Root\n",
    "\n",
    "We just create a Node class and add assign a value to the node. This becomes tree with only a root node."
   ]
  },
  {
   "cell_type": "code",
   "execution_count": 3,
   "metadata": {},
   "outputs": [
    {
     "name": "stdout",
     "output_type": "stream",
     "text": [
      "10\n"
     ]
    }
   ],
   "source": [
    "class Node:\n",
    "   def __init__(self, data):\n",
    "      self.left = None\n",
    "      self.right = None\n",
    "      self.data = data\n",
    "   def PrintTree(self):\n",
    "      print(self.data)\n",
    "\n",
    "root = Node(10)\n",
    "root.PrintTree()"
   ]
  },
  {
   "cell_type": "markdown",
   "metadata": {},
   "source": [
    "Inserting into a Tree\n",
    "\n",
    "To insert into a tree we use the same node class created above and add a insert class to it. The insert class compares the value of the node to the parent node and decides to add it as a left node or a right node. Finally the PrintTree class is used to print the tree."
   ]
  },
  {
   "cell_type": "code",
   "execution_count": 24,
   "metadata": {},
   "outputs": [],
   "source": [
    "class Node:\n",
    "   def __init__(self, data):\n",
    "      self.left = None\n",
    "      self.right = None\n",
    "      self.data = data\n",
    "\n",
    "   def insert(self, data):\n",
    "# Compare the new value with the parent node\n",
    "      if self.data:\n",
    "         if data < self.data:\n",
    "            if self.left is None:\n",
    "               self.left = Node(data)\n",
    "            else:\n",
    "               self.left.insert(data)\n",
    "         elif data > self.data:\n",
    "               if self.right is None:\n",
    "                  self.right = Node(data)\n",
    "         else:\n",
    "            self.right.insert(data)\n",
    "      else:\n",
    "         self.data = data\n",
    "\n",
    "# Print the tree\n",
    "   def PrintTree(self):\n",
    "      if self.left:\n",
    "         self.left.PrintTree()\n",
    "      print(self.data),\n",
    "      if self.right:\n",
    "         self.right.PrintTree()\n",
    "      #print(self.data),"
   ]
  },
  {
   "cell_type": "code",
   "execution_count": 25,
   "metadata": {},
   "outputs": [
    {
     "name": "stdout",
     "output_type": "stream",
     "text": [
      "3\n",
      "6\n",
      "12\n",
      "14\n"
     ]
    }
   ],
   "source": [
    "# Use the insert method to add nodes\n",
    "root = Node(12)\n",
    "root.insert(6)\n",
    "root.insert(14)\n",
    "root.insert(3)\n",
    "root.PrintTree()"
   ]
  },
  {
   "cell_type": "code",
   "execution_count": 26,
   "metadata": {},
   "outputs": [
    {
     "name": "stdout",
     "output_type": "stream",
     "text": [
      "10\n",
      "14\n",
      "19\n",
      "27\n",
      "35\n"
     ]
    }
   ],
   "source": [
    "root = Node(27)\n",
    "root.insert(14)\n",
    "root.insert(35)\n",
    "root.insert(10)\n",
    "root.insert(19)\n",
    "root.insert(31)\n",
    "root.insert(42)\n",
    "root.PrintTree()"
   ]
  },
  {
   "cell_type": "markdown",
   "metadata": {},
   "source": [
    "Pre-order Traversal\n",
    "\n",
    "In this traversal method, the root node is visited first, then the left subtree and finally the right subtree.\n",
    "\n",
    "In the below python program, we use the Node class to create place holders for the root node as well as the left and right nodes. Then, we create an insert function to add data to the tree. Finally, the Pre-order traversal logic is implemented by creating an empty list and adding the root node first followed by the left node.\n",
    "\n",
    "At last, the right node is added to complete the Pre-order traversal. Please note that, this process is repeated for each sub-tree until all the nodes are traversed."
   ]
  },
  {
   "cell_type": "code",
   "execution_count": 5,
   "metadata": {},
   "outputs": [
    {
     "name": "stdout",
     "output_type": "stream",
     "text": [
      "[27, 14, 10, 19, 35, 31, 42]\n"
     ]
    }
   ],
   "source": [
    "class Node:\n",
    "   def __init__(self, data):\n",
    "      self.left = None\n",
    "      self.right = None\n",
    "      self.data = data\n",
    "# Insert Node\n",
    "   def insert(self, data):\n",
    "      if self.data:\n",
    "         if data < self.data:\n",
    "            if self.left is None:\n",
    "               self.left = Node(data)\n",
    "            else:\n",
    "               self.left.insert(data)\n",
    "         elif data > self.data:\n",
    "            if self.right is None:\n",
    "               self.right = Node(data)\n",
    "            else:\n",
    "               self.right.insert(data)\n",
    "         else:\n",
    "            self.data = data\n",
    "# Print the Tree\n",
    "   def PrintTree(self):\n",
    "      if self.left:\n",
    "         self.left.PrintTree()\n",
    "      print( self.data),\n",
    "      if self.right:\n",
    "         self.right.PrintTree()\n",
    "# Preorder traversal\n",
    "# Root -> Left ->Right\n",
    "   def PreorderTraversal(self, root):\n",
    "      res = []\n",
    "      if root:\n",
    "         res.append(root.data)\n",
    "         res = res + self.PreorderTraversal(root.left)\n",
    "         res = res + self.PreorderTraversal(root.right)\n",
    "      return res\n",
    "root = Node(27)\n",
    "root.insert(14)\n",
    "root.insert(35)\n",
    "root.insert(10)\n",
    "root.insert(19)\n",
    "root.insert(31)\n",
    "root.insert(42)\n",
    "print(root.PreorderTraversal(root))"
   ]
  },
  {
   "cell_type": "markdown",
   "metadata": {},
   "source": [
    "Post-order Traversal\n",
    "In this traversal method, the root node is visited last, hence the name. First, we traverse the left subtree, then the right subtree and finally the root node.\n",
    "\n",
    "In the below python program, we use the Node class to create place holders for the root node as well as the left and right nodes. Then, we create an insert function to add data to the tree. Finally, the Post-order traversal logic is implemented by creating an empty list and adding the left node first followed by the right node.\n",
    "\n",
    "At last the root or parent node is added to complete the Post-order traversal. Please note that, this process is repeated for each sub-tree until all the nodes are traversed."
   ]
  },
  {
   "cell_type": "code",
   "execution_count": 15,
   "metadata": {},
   "outputs": [
    {
     "name": "stdout",
     "output_type": "stream",
     "text": [
      "[10, 19, 14, 31, 42, 35, 27]\n"
     ]
    }
   ],
   "source": [
    "class Node:\n",
    "    def __init__(self, data):\n",
    "      self.left = None\n",
    "      self.right = None\n",
    "      self.data = data\n",
    "# Insert Node\n",
    "    def insert(self, data):\n",
    "      if self.data:\n",
    "         if data < self.data:\n",
    "            if self.left is None:\n",
    "               self.left = Node(data)\n",
    "            else:\n",
    "               self.left.insert(data)\n",
    "         elif data > self.data:\n",
    "            if self.right is None:\n",
    "               self.right = Node(data)\n",
    "            else:\n",
    "               self.right.insert(data)\n",
    "         else:\n",
    "            self.data = data\n",
    "# Print the Tree\n",
    "    def PrintTree(self):\n",
    "      if self.left:\n",
    "         self.left.PrintTree()\n",
    "      print( self.data),\n",
    "      if self.right:\n",
    "         self.right.PrintTree()\n",
    "# Postorder traversal\n",
    "# Left ->Right -> Root\n",
    "    def PostorderTraversal(self, root):\n",
    "       res = []\n",
    "       if root:\n",
    "          res = self.PostorderTraversal(root.left)\n",
    "          res = res + self.PostorderTraversal(root.right)\n",
    "          res.append(root.data)\n",
    "       return res\n",
    "root = Node(27)\n",
    "root.insert(14)\n",
    "root.insert(35)\n",
    "root.insert(10)\n",
    "root.insert(19)\n",
    "root.insert(31)\n",
    "root.insert(42)\n",
    "print(root.PostorderTraversal(root))"
   ]
  },
  {
   "cell_type": "code",
   "execution_count": null,
   "metadata": {},
   "outputs": [],
   "source": []
  }
 ],
 "metadata": {
  "kernelspec": {
   "display_name": "Python 3",
   "language": "python",
   "name": "python3"
  },
  "language_info": {
   "codemirror_mode": {
    "name": "ipython",
    "version": 3
   },
   "file_extension": ".py",
   "mimetype": "text/x-python",
   "name": "python",
   "nbconvert_exporter": "python",
   "pygments_lexer": "ipython3",
   "version": "3.8.3"
  }
 },
 "nbformat": 4,
 "nbformat_minor": 4
}
