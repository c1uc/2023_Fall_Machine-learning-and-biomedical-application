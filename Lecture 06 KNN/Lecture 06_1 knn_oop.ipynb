{
 "cells": [
  {
   "cell_type": "markdown",
   "metadata": {},
   "source": [
    "Author: Python Engineer: Machine Learning algorithm implementations from scratch. https://www.youtube.com/playlist?list=PLqnslRFeH2Upcrywf-u2etjdxxkL8nl7E"
   ]
  },
  {
   "cell_type": "markdown",
   "metadata": {},
   "source": [
    "# Machine Learning algorithm implementations from scratch.\n",
    "\n",
    "You can find Tutorials with the math and code explanations [Here](https://www.youtube.com/playlist?list=PLqnslRFeH2Upcrywf-u2etjdxxkL8nl7E)"
   ]
  },
  {
   "attachments": {
    "image.png": {
     "image/png": "[encoded data removed]"
    }
   },
   "cell_type": "markdown",
   "metadata": {},
   "source": [
    "![image.png](attachment:image.png)"
   ]
  },
  {
   "cell_type": "code",
   "execution_count": 15,
   "metadata": {},
   "outputs": [],
   "source": [
    "from collections import Counter\n",
    "import numpy as np\n",
    "\n",
    "def euclidean_distance(x1, x2):\n",
    "    return np.sqrt(np.sum((x1 - x2) ** 2))\n",
    "\n",
    "\n",
    "class KNN:\n",
    "    def __init__(self, k=3):\n",
    "        self.k = k\n",
    "\n",
    "    def fit(self, X, y):\n",
    "        self.X_train = X\n",
    "        self.y_train = y\n",
    "\n",
    "    def predict(self, X):\n",
    "        y_pred = [self._predict(x) for x in X]\n",
    "        return np.array(y_pred)\n",
    "\n",
    "    def _predict(self, x):\n",
    "        # Compute distances between x and all examples in the training set\n",
    "        distances = [euclidean_distance(x, x_train) for x_train in self.X_train]\n",
    "        # Sort by distance and return indices of the first k neighbors\n",
    "        k_idx = np.argsort(distances)[: self.k]\n",
    "        # Extract the labels of the k nearest neighbor training samples\n",
    "        k_neighbor_labels = [self.y_train[i] for i in k_idx]\n",
    "        # return the most common class label\n",
    "        most_common = Counter(k_neighbor_labels).most_common(1)\n",
    "        return most_common[0][0]"
   ]
  },
  {
   "cell_type": "code",
   "execution_count": 16,
   "metadata": {},
   "outputs": [
    {
     "name": "stdout",
     "output_type": "stream",
     "text": [
      "KNN classification accuracy 1.0\n"
     ]
    }
   ],
   "source": [
    "from matplotlib.colors import ListedColormap\n",
    "from sklearn import datasets\n",
    "from sklearn.model_selection import train_test_split\n",
    "\n",
    "cmap = ListedColormap([\"#FF0000\", \"#00FF00\", \"#0000FF\"])\n",
    "\n",
    "def accuracy(y_true, y_pred):\n",
    "    accuracy = np.sum(y_true == y_pred) / len(y_true)\n",
    "    return accuracy\n",
    "\n",
    "iris = datasets.load_iris()\n",
    "X, y = iris.data, iris.target\n",
    "\n",
    "X_train, X_test, y_train, y_test = train_test_split(X, y, test_size=0.2, random_state=1234)\n",
    "\n",
    "k = 3\n",
    "clf = KNN(k=k)\n",
    "clf.fit(X_train, y_train)\n",
    "predictions = clf.predict(X_test)\n",
    "print(\"KNN classification accuracy\", accuracy(y_test, predictions))\n"
   ]
  },
  {
   "cell_type": "code",
   "execution_count": 17,
   "metadata": {},
   "outputs": [],
   "source": [
    "# The following are testings"
   ]
  },
  {
   "cell_type": "code",
   "execution_count": 18,
   "metadata": {},
   "outputs": [
    {
     "name": "stdout",
     "output_type": "stream",
     "text": [
      "[[5.1 2.5 3.  1.1]\n",
      " [6.2 2.8 4.8 1.8]\n",
      " [5.  3.5 1.3 0.3]\n",
      " [6.3 2.8 5.1 1.5]\n",
      " [6.7 3.  5.  1.7]\n",
      " [4.8 3.4 1.9 0.2]\n",
      " [4.4 2.9 1.4 0.2]\n",
      " [5.4 3.4 1.7 0.2]\n",
      " [4.6 3.6 1.  0.2]\n",
      " [5.  2.3 3.3 1. ]]\n",
      "[1 2 0 2 1 0 0 0 0 1]\n"
     ]
    }
   ],
   "source": [
    "X_train=X_train[0:10,:]\n",
    "y_train=y_train[0:10]\n",
    "print(X_train)\n",
    "print(y_train)"
   ]
  },
  {
   "cell_type": "code",
   "execution_count": 19,
   "metadata": {},
   "outputs": [
    {
     "name": "stdout",
     "output_type": "stream",
     "text": [
      "[6.1 3.  4.6 1.4]\n",
      "[1.9748417658131496, 0.5000000000000003, 3.6823905279043934, 0.5830951894845302, 0.7810249675906661, 3.252691193458118, 3.818376618407356, 3.2403703492039293, 4.124318125460256, 1.884144368141677]\n"
     ]
    }
   ],
   "source": [
    "# Compute distances between x and all examples in the training set\n",
    "x=X_test[0,:]\n",
    "distances = [euclidean_distance(x, x_train) for x_train in X_train] # \n",
    "print(x)\n",
    "print(distances)"
   ]
  },
  {
   "cell_type": "code",
   "execution_count": 20,
   "metadata": {},
   "outputs": [
    {
     "name": "stdout",
     "output_type": "stream",
     "text": [
      "[1 3 4]\n"
     ]
    }
   ],
   "source": [
    "# Sort by distance and return indices of the first k=3 neighbors\n",
    "k_idx = np.argsort(distances)[:3]\n",
    "print(k_idx)"
   ]
  },
  {
   "cell_type": "code",
   "execution_count": 21,
   "metadata": {},
   "outputs": [
    {
     "name": "stdout",
     "output_type": "stream",
     "text": [
      "[2, 2, 1]\n"
     ]
    }
   ],
   "source": [
    "# Extract the labels of the k nearest neighbor training samples\n",
    "k_neighbor_labels = [y_train[i] for i in k_idx]\n",
    "print(k_neighbor_labels)"
   ]
  },
  {
   "cell_type": "code",
   "execution_count": 22,
   "metadata": {},
   "outputs": [
    {
     "name": "stdout",
     "output_type": "stream",
     "text": [
      "[(2, 2)]\n",
      "2\n"
     ]
    }
   ],
   "source": [
    "# return the most common class label\n",
    "most_common = Counter(k_neighbor_labels).most_common(1)\n",
    "print(most_common)\n",
    "print(most_common[0][0])"
   ]
  },
  {
   "cell_type": "code",
   "execution_count": 23,
   "metadata": {},
   "outputs": [
    {
     "name": "stdout",
     "output_type": "stream",
     "text": [
      "[(10, 4)]\n",
      "(10, 4)\n",
      "10\n"
     ]
    }
   ],
   "source": [
    "# This is a test\n",
    "from collections import Counter\n",
    "a=[10,10,10,10,20,20,20,30,40,50,60]\n",
    "most_common=Counter(a).most_common(1) # 第一個最多的數字\n",
    "print(most_common) # 10最多而且有四個，回傳list\n",
    "print(most_common[0])\n",
    "print(most_common[0][0])"
   ]
  },
  {
   "cell_type": "code",
   "execution_count": 24,
   "metadata": {},
   "outputs": [
    {
     "name": "stdout",
     "output_type": "stream",
     "text": [
      "[(10, 4), (20, 3)]\n",
      "(20, 3)\n",
      "20\n"
     ]
    }
   ],
   "source": [
    "# This is a test\n",
    "most_common=Counter(a).most_common(2)\n",
    "print(most_common)\n",
    "print(most_common[1])\n",
    "print(most_common[1][0])"
   ]
  },
  {
   "cell_type": "code",
   "execution_count": null,
   "metadata": {},
   "outputs": [],
   "source": []
  },
  {
   "cell_type": "code",
   "execution_count": null,
   "metadata": {},
   "outputs": [],
   "source": []
  }
 ],
 "metadata": {
  "kernelspec": {
   "display_name": "Python 3",
   "language": "python",
   "name": "python3"
  },
  "language_info": {
   "codemirror_mode": {
    "name": "ipython",
    "version": 3
   },
   "file_extension": ".py",
   "mimetype": "text/x-python",
   "name": "python",
   "nbconvert_exporter": "python",
   "pygments_lexer": "ipython3",
   "version": "3.8.3"
  }
 },
 "nbformat": 4,
 "nbformat_minor": 4
}
