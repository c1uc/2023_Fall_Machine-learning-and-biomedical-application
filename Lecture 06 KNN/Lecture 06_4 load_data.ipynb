{
 "cells": [
  {
   "cell_type": "markdown",
   "metadata": {},
   "source": [
    "Author: Python Engineer: Machine Learning algorithm implementations from scratch. https://www.youtube.com/playlist?list=PLqnslRFeH2Upcrywf-u2etjdxxkL8nl7E"
   ]
  },
  {
   "cell_type": "code",
   "execution_count": 1,
   "metadata": {},
   "outputs": [
    {
     "name": "stdout",
     "output_type": "stream",
     "text": [
      "(4601, 58)\n",
      "n_features= 57\n",
      "(4601, 57) (4601,)\n",
      "[0.   0.64 0.64 0.   0.32]\n",
      "[1. 1. 1. ... 0. 0. 0.]\n"
     ]
    }
   ],
   "source": [
    "import csv\n",
    "import numpy as np\n",
    "import pandas as pd\n",
    "\n",
    "# Download data from https://archive.ics.uci.edu/ml/datasets/spambase\n",
    "FILE_NAME = \"spambase.data\"\n",
    "\n",
    "# 1) load with csv file, but this method is not recommended\n",
    "with open(FILE_NAME, \"r\") as f:\n",
    "    data = list(csv.reader(f, delimiter=\",\"))\n",
    "\n",
    "data = np.array(data, dtype=np.float32)\n",
    "print(data.shape)\n",
    "\n",
    "# split into X and y\n",
    "n_samples, n_features = data.shape\n",
    "n_features -= 1\n",
    "print('n_features=',n_features)\n",
    "\n",
    "X = data[:, 0:n_features]\n",
    "y = data[:, n_features]\n",
    "\n",
    "print(X.shape, y.shape)\n",
    "print(X[0, 0:5])\n",
    "print(y)\n",
    "# or if y is the first column\n",
    "# X = data[:, 1:n_features+1]\n",
    "# y = data[:, 0]"
   ]
  },
  {
   "cell_type": "code",
   "execution_count": 2,
   "metadata": {},
   "outputs": [
    {
     "name": "stdout",
     "output_type": "stream",
     "text": [
      "(4601, 58) float32\n",
      "(4601, 57) (4601,)\n",
      "[0.   0.64 0.64 0.   0.32]\n"
     ]
    }
   ],
   "source": [
    "# 2) load with np.loadtxt()\n",
    "# skiprows=1\n",
    "data = np.loadtxt(FILE_NAME, delimiter=\",\", dtype=np.float32)\n",
    "print(data.shape, data.dtype)\n",
    "\n",
    "# split into X and y\n",
    "n_samples, n_features = data.shape\n",
    "n_features -= 1\n",
    "\n",
    "X = data[:, 0:n_features]\n",
    "y = data[:, n_features]\n",
    "\n",
    "print(X.shape, y.shape)\n",
    "print(X[0, 0:5])\n",
    "# or if y is the first column\n",
    "# X = data[:, 1:n_features+1]\n",
    "# y = data[:, 0]"
   ]
  },
  {
   "cell_type": "code",
   "execution_count": 3,
   "metadata": {},
   "outputs": [
    {
     "name": "stdout",
     "output_type": "stream",
     "text": [
      "(4601, 58) float32\n",
      "(4601, 57) (4601,)\n",
      "[0.   0.64 0.64 0.   0.32]\n"
     ]
    }
   ],
   "source": [
    "# 3) load with np.genfromtxt(), this is the recommended method which can deal with the missing data\n",
    "# skip_header=0, missing_values=\"---\", filling_values=0.0\n",
    "data = np.genfromtxt(FILE_NAME, delimiter=\",\", dtype=np.float32)\n",
    "# data = np.genfromtxt(FILE_NAME, delimiter=\",\", dtype=np.float32, skip_header=1) # if there is header in the first line\n",
    "print(data.shape, data.dtype)\n",
    "\n",
    "# split into X and y\n",
    "n_samples, n_features = data.shape\n",
    "n_features -= 1\n",
    "\n",
    "X = data[:, 0:n_features]\n",
    "y = data[:, n_features]\n",
    "\n",
    "print(X.shape, y.shape)\n",
    "print(X[0, 0:5])\n",
    "# or if y is the first column\n",
    "# X = data[:, 1:n_features+1]\n",
    "# y = data[:, 0]"
   ]
  },
  {
   "cell_type": "code",
   "execution_count": 4,
   "metadata": {},
   "outputs": [
    {
     "name": "stdout",
     "output_type": "stream",
     "text": [
      "[0.   0.   0.   0.   0.63] float32\n",
      "(4601, 57) (4601,)\n",
      "[0.   0.64 0.64 0.   0.32]\n"
     ]
    }
   ],
   "source": [
    "# 4) load with pandas: read_csv()\n",
    "# na_values = ['---']\n",
    "df = pd.read_csv(FILE_NAME, header=None, skiprows=0, dtype=np.float32)\n",
    "# df = pd.read_csv(FILE_NAME, header=None, skiprows=1, dtype=np.float32) # if there is header in the first line\n",
    "df = df.fillna(0.0)\n",
    "\n",
    "# dataframe to numpy\n",
    "data = df.to_numpy()\n",
    "print(data[4, 0:5],data.dtype)\n",
    "\n",
    "# split into X and y\n",
    "n_samples, n_features = data.shape\n",
    "n_features -= 1\n",
    "\n",
    "X = data[:, 0:n_features]\n",
    "y = data[:, n_features]\n",
    "\n",
    "print(X.shape, y.shape)\n",
    "print(X[0, 0:5])\n",
    "\n",
    "# convert datatypes in numpy\n",
    "# data = np.asarray(data, dtype = np.float32)\n",
    "# print(data.dtype)\n"
   ]
  },
  {
   "cell_type": "code",
   "execution_count": null,
   "metadata": {},
   "outputs": [],
   "source": []
  }
 ],
 "metadata": {
  "kernelspec": {
   "display_name": "Python 3",
   "language": "python",
   "name": "python3"
  },
  "language_info": {
   "codemirror_mode": {
    "name": "ipython",
    "version": 3
   },
   "file_extension": ".py",
   "mimetype": "text/x-python",
   "name": "python",
   "nbconvert_exporter": "python",
   "pygments_lexer": "ipython3",
   "version": "3.8.3"
  }
 },
 "nbformat": 4,
 "nbformat_minor": 4
}
