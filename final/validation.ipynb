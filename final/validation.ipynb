{
 "cells": [
  {
   "cell_type": "code",
   "execution_count": 1,
   "id": "6141e97e619662d2",
   "metadata": {
    "collapsed": false,
    "ExecuteTime": {
     "end_time": "2024-01-08T09:07:24.700999400Z",
     "start_time": "2024-01-08T09:07:24.691471900Z"
    }
   },
   "outputs": [
    {
     "name": "stdout",
     "output_type": "stream",
     "text": [
      "E:\\Code\\bioML\\final\n"
     ]
    }
   ],
   "source": [
    "import os\n",
    "\n",
    "print(os.getcwd())"
   ]
  },
  {
   "cell_type": "code",
   "execution_count": 2,
   "id": "c4838f8f9f804ce3",
   "metadata": {
    "collapsed": false,
    "ExecuteTime": {
     "end_time": "2024-01-08T09:07:28.067999900Z",
     "start_time": "2024-01-08T09:07:24.698999500Z"
    }
   },
   "outputs": [],
   "source": [
    "from transformers import AutoImageProcessor\n",
    "\n",
    "model_name = './image_aug_model_epoch_10_01-07-24-16-05-41'\n",
    "processor = AutoImageProcessor.from_pretrained(model_name)"
   ]
  },
  {
   "cell_type": "code",
   "execution_count": 3,
   "id": "aca459b0410bb404",
   "metadata": {
    "collapsed": false,
    "ExecuteTime": {
     "end_time": "2024-01-08T09:07:30.517001700Z",
     "start_time": "2024-01-08T09:07:28.067001700Z"
    }
   },
   "outputs": [],
   "source": [
    "from transformers import pipeline\n",
    "\n",
    "classifier = pipeline(\"image-classification\", model=model_name, tokenizer=processor, device=0)"
   ]
  },
  {
   "cell_type": "code",
   "outputs": [],
   "source": [
    "labels = [\n",
    "    'Healthy',\n",
    "    'Atelectasis',\n",
    "    'Consolidation',\n",
    "    'Infiltration',\n",
    "    'Pneumothorax',\n",
    "    'Edema',\n",
    "    'Emphysema',\n",
    "    'Fibrosis',\n",
    "    'Effusion',\n",
    "    'Pneumonia',\n",
    "    'Pleural_Thickening',\n",
    "    'Cardiomegaly',\n",
    "    'Nodule',\n",
    "    'Mass',\n",
    "    'Hernia'\n",
    "]"
   ],
   "metadata": {
    "collapsed": false,
    "ExecuteTime": {
     "end_time": "2024-01-08T09:07:30.529253900Z",
     "start_time": "2024-01-08T09:07:30.518262500Z"
    }
   },
   "id": "24119873cdb1956b",
   "execution_count": 4
  },
  {
   "cell_type": "code",
   "outputs": [],
   "source": [
    "import datasets\n",
    "\n",
    "def top_k_accuracy(data, label, pipe):\n",
    "    top_1 = 0\n",
    "    top_3 = 0\n",
    "    top_5 = 0\n",
    "    for o in pipe(data):\n",
    "        for _ in range(5):\n",
    "            if label == o[_][\"label\"]:\n",
    "                if _ < 1:\n",
    "                    top_1 += 1\n",
    "                if _ < 3:\n",
    "                    top_3 += 1\n",
    "                if _ < 5:\n",
    "                    top_5 += 1\n",
    "                break\n",
    "    return top_1 / len(data), top_3 / len(data), top_5 / len(data)"
   ],
   "metadata": {
    "collapsed": false,
    "ExecuteTime": {
     "end_time": "2024-01-08T09:07:31.162143200Z",
     "start_time": "2024-01-08T09:07:30.523255100Z"
    }
   },
   "id": "cf2a46de8013c376",
   "execution_count": 5
  },
  {
   "cell_type": "code",
   "outputs": [
    {
     "data": {
      "text/plain": "Resolving data files:   0%|          | 0/3044 [00:00<?, ?it/s]",
      "application/vnd.jupyter.widget-view+json": {
       "version_major": 2,
       "version_minor": 0,
       "model_id": "f4241096414c48bf98706382335cb5a8"
      }
     },
     "metadata": {},
     "output_type": "display_data"
    },
    {
     "data": {
      "text/plain": "Resolving data files:   0%|          | 0/508 [00:00<?, ?it/s]",
      "application/vnd.jupyter.widget-view+json": {
       "version_major": 2,
       "version_minor": 0,
       "model_id": "5bc2eeb3382e4ae39a0cbf846c7209d2"
      }
     },
     "metadata": {},
     "output_type": "display_data"
    },
    {
     "data": {
      "text/plain": "Resolving data files:   0%|          | 0/226 [00:00<?, ?it/s]",
      "application/vnd.jupyter.widget-view+json": {
       "version_major": 2,
       "version_minor": 0,
       "model_id": "a73feb328fd64704a9049838c3dc8b8f"
      }
     },
     "metadata": {},
     "output_type": "display_data"
    },
    {
     "data": {
      "text/plain": "Resolving data files:   0%|          | 0/967 [00:00<?, ?it/s]",
      "application/vnd.jupyter.widget-view+json": {
       "version_major": 2,
       "version_minor": 0,
       "model_id": "b9d13224c79149e3b0d6352981a7ba34"
      }
     },
     "metadata": {},
     "output_type": "display_data"
    },
    {
     "data": {
      "text/plain": "Resolving data files:   0%|          | 0/271 [00:00<?, ?it/s]",
      "application/vnd.jupyter.widget-view+json": {
       "version_major": 2,
       "version_minor": 0,
       "model_id": "381be397f12345e7b393a947cf456d08"
      }
     },
     "metadata": {},
     "output_type": "display_data"
    },
    {
     "data": {
      "text/plain": "Resolving data files:   0%|          | 0/118 [00:00<?, ?it/s]",
      "application/vnd.jupyter.widget-view+json": {
       "version_major": 2,
       "version_minor": 0,
       "model_id": "371271772082444bb6dc9da07629871a"
      }
     },
     "metadata": {},
     "output_type": "display_data"
    },
    {
     "data": {
      "text/plain": "Resolving data files:   0%|          | 0/127 [00:00<?, ?it/s]",
      "application/vnd.jupyter.widget-view+json": {
       "version_major": 2,
       "version_minor": 0,
       "model_id": "5a95e415f8404a828c9fc7341bbe27e2"
      }
     },
     "metadata": {},
     "output_type": "display_data"
    },
    {
     "data": {
      "text/plain": "Resolving data files:   0%|          | 0/84 [00:00<?, ?it/s]",
      "application/vnd.jupyter.widget-view+json": {
       "version_major": 2,
       "version_minor": 0,
       "model_id": "d03d62f257d64bdc8823ebe6dac6a499"
      }
     },
     "metadata": {},
     "output_type": "display_data"
    },
    {
     "data": {
      "text/plain": "Resolving data files:   0%|          | 0/644 [00:00<?, ?it/s]",
      "application/vnd.jupyter.widget-view+json": {
       "version_major": 2,
       "version_minor": 0,
       "model_id": "2dae02d2730943889eb9b50c2d33e786"
      }
     },
     "metadata": {},
     "output_type": "display_data"
    },
    {
     "data": {
      "text/plain": "Resolving data files:   0%|          | 0/62 [00:00<?, ?it/s]",
      "application/vnd.jupyter.widget-view+json": {
       "version_major": 2,
       "version_minor": 0,
       "model_id": "e5c1fefb4326453aaa2904871813e873"
      }
     },
     "metadata": {},
     "output_type": "display_data"
    },
    {
     "data": {
      "text/plain": "Resolving data files:   0%|          | 0/176 [00:00<?, ?it/s]",
      "application/vnd.jupyter.widget-view+json": {
       "version_major": 2,
       "version_minor": 0,
       "model_id": "48a1bca46da743dd94b2ddb0c7baaf5f"
      }
     },
     "metadata": {},
     "output_type": "display_data"
    },
    {
     "name": "stderr",
     "output_type": "stream",
     "text": [
      "E:\\Code\\bioML\\venv\\Lib\\site-packages\\transformers\\pipelines\\base.py:1101: UserWarning: You seem to be using the pipelines sequentially on GPU. In order to maximize efficiency please use a dataset\n",
      "  warnings.warn(\n"
     ]
    },
    {
     "data": {
      "text/plain": "Resolving data files:   0%|          | 0/141 [00:00<?, ?it/s]",
      "application/vnd.jupyter.widget-view+json": {
       "version_major": 2,
       "version_minor": 0,
       "model_id": "a9d4a4066c0f42ecbbc2e947cb659a4b"
      }
     },
     "metadata": {},
     "output_type": "display_data"
    },
    {
     "data": {
      "text/plain": "Resolving data files:   0%|          | 0/313 [00:00<?, ?it/s]",
      "application/vnd.jupyter.widget-view+json": {
       "version_major": 2,
       "version_minor": 0,
       "model_id": "7db0f8bcca094569b4cd95419e767bff"
      }
     },
     "metadata": {},
     "output_type": "display_data"
    },
    {
     "data": {
      "text/plain": "Resolving data files:   0%|          | 0/284 [00:00<?, ?it/s]",
      "application/vnd.jupyter.widget-view+json": {
       "version_major": 2,
       "version_minor": 0,
       "model_id": "da491dfcdc644ee49369a7bea4c627d0"
      }
     },
     "metadata": {},
     "output_type": "display_data"
    }
   ],
   "source": [
    "import glob\n",
    "\n",
    "res = dict()\n",
    "\n",
    "for label in labels:\n",
    "    ds = datasets.load_dataset(\"imagefolder\", data_dir=\"./sample_dataset/dataset/\" + label)['train']['image']\n",
    "    res[label] = top_k_accuracy(ds, label, classifier)"
   ],
   "metadata": {
    "collapsed": false,
    "ExecuteTime": {
     "end_time": "2024-01-08T09:11:54.048993300Z",
     "start_time": "2024-01-08T09:07:31.162143200Z"
    }
   },
   "id": "e99c52de90c77ec5",
   "execution_count": 6
  },
  {
   "cell_type": "code",
   "execution_count": 7,
   "id": "bf31cef5dcfb68fe",
   "metadata": {
    "collapsed": false,
    "ExecuteTime": {
     "end_time": "2024-01-08T09:11:54.057859600Z",
     "start_time": "2024-01-08T09:11:54.048993300Z"
    }
   },
   "outputs": [
    {
     "data": {
      "text/plain": "{'Healthy': (0.9336399474375822, 0.9944152431011827, 0.9993429697766097),\n 'Atelectasis': (0.1377952755905512, 0.7244094488188977, 0.937007874015748),\n 'Consolidation': (0.01327433628318584,\n  0.12831858407079647,\n  0.5309734513274337),\n 'Infiltration': (0.22750775594622544, 0.8148914167528438, 0.9896587383660806),\n 'Pneumothorax': (0.0996309963099631, 0.42066420664206644, 0.8118081180811808),\n 'Edema': (0.0, 0.05084745762711865, 0.2711864406779661),\n 'Emphysema': (0.0, 0.0, 0.03937007874015748),\n 'Fibrosis': (0.0, 0.0, 0.0),\n 'Effusion': (0.33229813664596275, 0.8493788819875776, 0.9782608695652174),\n 'Pneumonia': (0.0, 0.0, 0.0),\n 'Pleural_Thickening': (0.0, 0.005681818181818182, 0.028409090909090908),\n 'Cardiomegaly': (0.0, 0.0, 0.02127659574468085),\n 'Nodule': (0.0, 0.1853035143769968, 0.4952076677316294),\n 'Mass': (0.01056338028169014, 0.18309859154929578, 0.4894366197183099),\n 'Hernia': (0.0, 0.0, 0.0)}"
     },
     "execution_count": 7,
     "metadata": {},
     "output_type": "execute_result"
    }
   ],
   "source": [
    "res"
   ]
  },
  {
   "cell_type": "code",
   "outputs": [],
   "source": [
    "import csv\n",
    "\n",
    "with open(model_name + '.csv', 'w', newline='') as csvfile:\n",
    "    writer = csv.writer(csvfile)\n",
    "    writer.writerow(['label', 'top_1', 'top_3', 'top_5'])\n",
    "    for label in labels:\n",
    "        writer.writerow([label, res[label][0], res[label][1], res[label][2]])"
   ],
   "metadata": {
    "collapsed": false,
    "ExecuteTime": {
     "end_time": "2024-01-08T09:11:54.066802900Z",
     "start_time": "2024-01-08T09:11:54.057859600Z"
    }
   },
   "id": "2dfa2ffe0ef8e77b",
   "execution_count": 8
  },
  {
   "cell_type": "code",
   "outputs": [],
   "source": [],
   "metadata": {
    "collapsed": false,
    "ExecuteTime": {
     "end_time": "2024-01-08T09:11:54.066802900Z",
     "start_time": "2024-01-08T09:11:54.061284Z"
    }
   },
   "id": "343462b54c64613f",
   "execution_count": 8
  }
 ],
 "metadata": {
  "kernelspec": {
   "display_name": "Python 3 (ipykernel)",
   "language": "python",
   "name": "python3"
  },
  "language_info": {
   "codemirror_mode": {
    "name": "ipython",
    "version": 3
   },
   "file_extension": ".py",
   "mimetype": "text/x-python",
   "name": "python",
   "nbconvert_exporter": "python",
   "pygments_lexer": "ipython3",
   "version": "3.11.6"
  }
 },
 "nbformat": 4,
 "nbformat_minor": 5
}
